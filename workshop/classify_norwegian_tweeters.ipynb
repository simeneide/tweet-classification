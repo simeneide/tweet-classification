{
 "cells": [
  {
   "cell_type": "markdown",
   "metadata": {},
   "source": [
    "# Classifying Twitter users based on their tweets\n",
    "In this workshop we will figure out who wrote which tweets from some Norwegian famous tweeters.\n",
    "\n",
    "#### Structure of the notebook\n",
    "There are three sections in this notebook: \n",
    "- Build Dataset, \n",
    "- Build machine learning model, and \n",
    "- See how well the model works.\n",
    "\n",
    "The first section is not really needed to know well.\n",
    "It contains all the \"boring\" data preprocessing that is necessary to prepare the data for the algorithm.\n",
    "For completeness it is here and commented, so that you can go through it if you really want to.\n",
    "\n",
    "The second part is where we will focus on during this workshop. \n",
    "For now, skim through the preprocessing, but really start at the second section.\n",
    "The third section is an evaluation of how good your model is.\n",
    "At the end there is some tips to get you going to create an even better model than this!\n",
    "\n",
    "#### Jupyter notebooks\n",
    "This jupyter notebook creates a neural network that use the tweet to predict the author. \n",
    "A jupyter notebook is a file where you can run code and show results in the same document. \n",
    "If you want a introduction, you can look [here](https://jupyter-notebook-beginner-guide.readthedocs.io/en/latest/), \n",
    "but the main idea is that you have markdown chunks (like this one) and code chunks. \n",
    "To run a chunk press **shift+enter**. Then the code is executed and you can see the results. To add a chunk press **esc+a** and an empty chunk will be create above where you stand :)\n"
   ]
  },
  {
   "cell_type": "code",
   "execution_count": 1,
   "metadata": {},
   "outputs": [
    {
     "name": "stderr",
     "output_type": "stream",
     "text": [
      "Using TensorFlow backend.\n"
     ]
    }
   ],
   "source": [
    "# Import all needed libraries\n",
    "import datetime\n",
    "import jsonlines\n",
    "import os\n",
    "import pandas as pd\n",
    "import numpy as np\n",
    "import re\n",
    "from keras.preprocessing.sequence import pad_sequences\n",
    "from sklearn import preprocessing\n",
    "import keras\n",
    "from keras.layers import *\n",
    "from keras.models import Model\n",
    "from sklearn.metrics import confusion_matrix\n",
    "import seaborn as sns\n",
    "%matplotlib inline"
   ]
  },
  {
   "cell_type": "markdown",
   "metadata": {},
   "source": [
    "## Build dataset\n",
    "First we need to build our dataset.\n",
    "This is not really part of the workshop, but the preparation code is left here so that those interested can check it out later.\n",
    "In the data directory there is some files from the twitter users we will investigate.\n",
    "Basically what we do is the following:\n",
    "\n",
    "- Read the files and put them in a nice pandas dataframe\n",
    "- Build a vocabulary of all words and give them indicies\n",
    "- Transform all tweets into indicies (something required by tensorflow later)\n"
   ]
  },
  {
   "cell_type": "markdown",
   "metadata": {},
   "source": [
    "#### Read files "
   ]
  },
  {
   "cell_type": "code",
   "execution_count": 2,
   "metadata": {},
   "outputs": [
    {
     "name": "stdout",
     "output_type": "stream",
     "text": [
      "Did not manage to process: data/.DS_Store\n",
      "We got 130270 observations in our dataset. The first 5 looks like this:\n"
     ]
    },
    {
     "data": {
      "text/html": [
       "<div>\n",
       "<style scoped>\n",
       "    .dataframe tbody tr th:only-of-type {\n",
       "        vertical-align: middle;\n",
       "    }\n",
       "\n",
       "    .dataframe tbody tr th {\n",
       "        vertical-align: top;\n",
       "    }\n",
       "\n",
       "    .dataframe thead th {\n",
       "        text-align: right;\n",
       "    }\n",
       "</style>\n",
       "<table border=\"1\" class=\"dataframe\">\n",
       "  <thead>\n",
       "    <tr style=\"text-align: right;\">\n",
       "      <th></th>\n",
       "      <th>id</th>\n",
       "      <th>likes</th>\n",
       "      <th>retweets</th>\n",
       "      <th>text</th>\n",
       "      <th>timestamp</th>\n",
       "      <th>url</th>\n",
       "      <th>user</th>\n",
       "    </tr>\n",
       "  </thead>\n",
       "  <tbody>\n",
       "    <tr>\n",
       "      <th>0</th>\n",
       "      <td>166340708389756929</td>\n",
       "      <td>0</td>\n",
       "      <td>1</td>\n",
       "      <td>.keep it simple;)</td>\n",
       "      <td>2012-02-07 08:00:00</td>\n",
       "      <td>/lenealexandra/status/166340708389756929</td>\n",
       "      <td>lenealexandra</td>\n",
       "    </tr>\n",
       "    <tr>\n",
       "      <th>1</th>\n",
       "      <td>638364147701424132</td>\n",
       "      <td>1</td>\n",
       "      <td>3</td>\n",
       "      <td>Nedre Kalbakkvei, trafikkulykke, mann påkjørt ...</td>\n",
       "      <td>2015-08-31 21:00:00</td>\n",
       "      <td>/oslopolitiops/status/638364147701424132</td>\n",
       "      <td>oslopolitiops</td>\n",
       "    </tr>\n",
       "    <tr>\n",
       "      <th>2</th>\n",
       "      <td>715703605421072384</td>\n",
       "      <td>2</td>\n",
       "      <td>3</td>\n",
       "      <td>Jernbaneveien: politiet er på stedet i forbind...</td>\n",
       "      <td>2016-04-02 07:00:00</td>\n",
       "      <td>/oslopolitiops/status/715703605421072384</td>\n",
       "      <td>oslopolitiops</td>\n",
       "    </tr>\n",
       "    <tr>\n",
       "      <th>3</th>\n",
       "      <td>787586412875046912</td>\n",
       "      <td>5</td>\n",
       "      <td>1</td>\n",
       "      <td>Vi har tatt imot forklaring fra begge parter o...</td>\n",
       "      <td>2016-10-16 17:00:00</td>\n",
       "      <td>/oslopolitiops/status/787586412875046912</td>\n",
       "      <td>oslopolitiops</td>\n",
       "    </tr>\n",
       "    <tr>\n",
       "      <th>4</th>\n",
       "      <td>179078841736773632</td>\n",
       "      <td>0</td>\n",
       "      <td>0</td>\n",
       "      <td>Har rusla gjennom Oslo no om morgonen. Herleg....</td>\n",
       "      <td>2012-03-12 22:00:00</td>\n",
       "      <td>/HadiaTajik/status/179078841736773632</td>\n",
       "      <td>HadiaTajik</td>\n",
       "    </tr>\n",
       "  </tbody>\n",
       "</table>\n",
       "</div>"
      ],
      "text/plain": [
       "                   id likes retweets  \\\n",
       "0  166340708389756929     0        1   \n",
       "1  638364147701424132     1        3   \n",
       "2  715703605421072384     2        3   \n",
       "3  787586412875046912     5        1   \n",
       "4  179078841736773632     0        0   \n",
       "\n",
       "                                                text           timestamp  \\\n",
       "0                                  .keep it simple;) 2012-02-07 08:00:00   \n",
       "1  Nedre Kalbakkvei, trafikkulykke, mann påkjørt ... 2015-08-31 21:00:00   \n",
       "2  Jernbaneveien: politiet er på stedet i forbind... 2016-04-02 07:00:00   \n",
       "3  Vi har tatt imot forklaring fra begge parter o... 2016-10-16 17:00:00   \n",
       "4  Har rusla gjennom Oslo no om morgonen. Herleg.... 2012-03-12 22:00:00   \n",
       "\n",
       "                                        url           user  \n",
       "0  /lenealexandra/status/166340708389756929  lenealexandra  \n",
       "1  /oslopolitiops/status/638364147701424132  oslopolitiops  \n",
       "2  /oslopolitiops/status/715703605421072384  oslopolitiops  \n",
       "3  /oslopolitiops/status/787586412875046912  oslopolitiops  \n",
       "4     /HadiaTajik/status/179078841736773632     HadiaTajik  "
      ]
     },
     "execution_count": 2,
     "metadata": {},
     "output_type": "execute_result"
    }
   ],
   "source": [
    "# Read files:\n",
    "def load_files_and_create_dataframe():\n",
    "    files = ['data/' + f for f in os.listdir(\"data\")]\n",
    "    L = []\n",
    "    for path in files:\n",
    "        try:\n",
    "            with jsonlines.open(path, mode='r') as reader:\n",
    "                tmp = [line for line in reader.iter()]\n",
    "                if len(tmp) > 50 & isinstance(tmp, list):\n",
    "                    L.extend(tmp)\n",
    "                else:\n",
    "                    print(\"%s had less than 50 tweets. skipping..\" %path)\n",
    "        except:\n",
    "            print(\"Did not manage to process: %s\" % path) \n",
    "            \n",
    "    raw = pd.DataFrame(L)\n",
    "    raw.timestamp = pd.to_datetime(raw.timestamp)\n",
    "    \n",
    "    # Shuffle dataset and filter out some users that have sneaked into the files \n",
    "    # (i.e. have less than 50 observations)\n",
    "    \n",
    "    counts = raw.user.value_counts()\n",
    "    counts = counts[counts > 50]\n",
    "    keep_users = counts.index\n",
    "    \n",
    "    raw = (\n",
    "        raw[raw.user.isin(keep_users)]\n",
    "        .sample(frac=1) # shuffle dataset\n",
    "        .reset_index(drop=True)\n",
    "    )\n",
    "    return raw\n",
    "\n",
    "raw = load_files_and_create_dataframe()\n",
    "\n",
    "print(\"We got %d observations in our dataset. The first 5 looks like this:\" % raw.shape[0])\n",
    "raw.head()"
   ]
  },
  {
   "cell_type": "markdown",
   "metadata": {},
   "source": [
    "#### Build vocabulary\n",
    "We build a vocabulary of the \"known\" words in the dataset.\n",
    "Essentially we will require that we have seen the word 5 times before for it to be in the vocabulary.\n",
    "Otherwise, we will replace the word with \"UNK\".\n",
    "\n",
    "The rest is pretty straightforward. \n",
    "We split by space and only keep the most important characters in the words.\n"
   ]
  },
  {
   "cell_type": "code",
   "execution_count": 3,
   "metadata": {},
   "outputs": [
    {
     "name": "stdout",
     "output_type": "stream",
     "text": [
      "We have a total vocabulary of 16139 words.\n"
     ]
    }
   ],
   "source": [
    "def tokenizeString(s):\n",
    "    s = s.lower().strip()\n",
    "    s = re.sub(u\"([.!?])\", r\" \", s)\n",
    "    s = re.sub(u\"[^a-zA-Z.!#@?\\xf8\\xe6\\xe5]+\", u\" \", s)\n",
    "    s = s.split(\" \")\n",
    "    return s\n",
    "\n",
    "def build_vocabulary(text, min_count = 5):\n",
    "    normalized = text.map(tokenizeString)\n",
    "    all_words = np.array([item for sublist in normalized.values.tolist() for item in sublist])\n",
    "    words, counts = np.unique(all_words, return_counts=True)\n",
    "    keep_words = words[counts > min_count]\n",
    "    ind2word = {i + 2 : w for i, w in enumerate(keep_words)}\n",
    "    ind2word[1] = \"UNK\"\n",
    "    ind2word[0] = \"EMPTY\"\n",
    "    word2ind = {w : i for i, w in ind2word.items()}\n",
    "    \n",
    "    return word2ind, ind2word\n",
    "\n",
    "word2ind, ind2word = build_vocabulary(raw.text)\n",
    "print(\"We have a total vocabulary of %d words.\" % len(word2ind))\n"
   ]
  },
  {
   "cell_type": "code",
   "execution_count": 4,
   "metadata": {},
   "outputs": [
    {
     "name": "stdout",
     "output_type": "stream",
     "text": [
      "If you want to find the index of a word:\n",
      "7032\n",
      "Similarly: If you want to find the word corresponding to an index:\n",
      "#adaxbycarolinebergeriksen\n"
     ]
    }
   ],
   "source": [
    "print(\"If you want to find the index of a word:\")\n",
    "print( word2ind[\"hus\"] )\n",
    "print(\"Similarly: If you want to find the word corresponding to an index:\")\n",
    "print( ind2word[5] )"
   ]
  },
  {
   "cell_type": "markdown",
   "metadata": {},
   "source": [
    "#### Preprocess text\n",
    "Now we want to transform all tweets from words to a fixed length index.\n",
    "We do this in two steps:\n",
    "- First we transform each word into an index (the vocabulary we defined above)\n",
    "- Then we set all tweets to a length of 40. If a tweet does not have 40 words then we fill with empty words. If the tweet have more, we truncate the end.\n",
    "\n",
    "The whole process is contained in the encode_text function. Also see that we have a decode_tweet function to go back again!"
   ]
  },
  {
   "cell_type": "code",
   "execution_count": 5,
   "metadata": {},
   "outputs": [],
   "source": [
    "# Prepare sequences:\n",
    "vectorize_tweet = lambda x: [word2ind.get(w,1) for w in x]\n",
    "PAD_LENGTH = 40\n",
    "\n",
    "def encode_text(s, padlen = PAD_LENGTH):\n",
    "    tokenized = tokenizeString(s)\n",
    "    vectorized = vectorize_tweet(tokenized)\n",
    "    padded = pad_sequences([vectorized], maxlen = padlen, padding = \"post\", truncating= \"post\")\n",
    "    return padded\n",
    "\n",
    "def decode_tweet(vec):\n",
    "    dec = [ind2word.get(ind) for ind in vec if ind != 0]\n",
    "    return \" \".join(dec)\n",
    "\n",
    "# All the work happens here:\n",
    "X = np.squeeze(np.array(raw.text.map(encode_text).values.tolist()))#.shape"
   ]
  },
  {
   "cell_type": "code",
   "execution_count": 6,
   "metadata": {},
   "outputs": [
    {
     "name": "stdout",
     "output_type": "stream",
     "text": [
      "We now have all our tweets in the numpy array X. Each row is a tweet (in total 130270), and each column is a word (in total 40)\n",
      "We can easily decode a tweet by doing the following:\n"
     ]
    },
    {
     "data": {
      "text/plain": [
       "'@tomsund true'"
      ]
     },
     "execution_count": 6,
     "metadata": {},
     "output_type": "execute_result"
    }
   ],
   "source": [
    "print(\"We now have all our tweets in the numpy array X. Each row is a tweet (in total %d), and each column is a word (in total %d)\" % (X.shape[0], X.shape[1]))\n",
    "\n",
    "print(\"We can easily decode a tweet by doing the following:\")\n",
    "decode_tweet(X[40,])"
   ]
  },
  {
   "cell_type": "markdown",
   "metadata": {},
   "source": [
    "#### Preprocess labels\n",
    "Each author represent a class. The classes needs to be represented by indicies.\n",
    "Therefore, we will also transform all the usernames into numbers."
   ]
  },
  {
   "cell_type": "code",
   "execution_count": 7,
   "metadata": {},
   "outputs": [
    {
     "name": "stdout",
     "output_type": "stream",
     "text": [
      "The index -> author mapping can be found in this dictionary:\n"
     ]
    },
    {
     "data": {
      "text/plain": [
       "{0: 'Fotballfrue',\n",
       " 1: 'HadiaTajik',\n",
       " 2: 'audunstrand',\n",
       " 3: 'erlendloe',\n",
       " 4: 'konservativ',\n",
       " 5: 'lenealexandra',\n",
       " 6: 'oslopolitiops'}"
      ]
     },
     "execution_count": 7,
     "metadata": {},
     "output_type": "execute_result"
    }
   ],
   "source": [
    "def build_classes(labels):\n",
    "    le = preprocessing.LabelEncoder()\n",
    "    le.fit(labels)\n",
    "    label_index = le.transform(labels)\n",
    "    ind2class = {i : user for i, user in  enumerate(le.classes_)}\n",
    "    return label_index, ind2class\n",
    "\n",
    "raw['user_class'], ind2class = build_classes(raw['user'])\n",
    "N_classes = len(ind2class) # Store total number of authors somewhere\n",
    "print(\"The index -> author mapping can be found in this dictionary:\")\n",
    "ind2class"
   ]
  },
  {
   "cell_type": "code",
   "execution_count": 8,
   "metadata": {},
   "outputs": [],
   "source": [
    "y = raw.user_class.values"
   ]
  },
  {
   "cell_type": "code",
   "execution_count": 9,
   "metadata": {},
   "outputs": [
    {
     "data": {
      "text/plain": [
       "array([5, 6, 6, ..., 6, 6, 5])"
      ]
     },
     "execution_count": 9,
     "metadata": {},
     "output_type": "execute_result"
    }
   ],
   "source": [
    "# Now y contains all the indicies of each user:\n",
    "y"
   ]
  },
  {
   "cell_type": "code",
   "execution_count": 10,
   "metadata": {},
   "outputs": [
    {
     "data": {
      "text/plain": [
       "'audunstrand'"
      ]
     },
     "execution_count": 10,
     "metadata": {},
     "output_type": "execute_result"
    }
   ],
   "source": [
    "# We can transform the index back to the user by using the ind2class dictionary:\n",
    "ind2class[2]"
   ]
  },
  {
   "cell_type": "code",
   "execution_count": 11,
   "metadata": {},
   "outputs": [
    {
     "data": {
      "text/plain": [
       "user\n",
       "Fotballfrue       8340\n",
       "HadiaTajik        5314\n",
       "audunstrand        121\n",
       "erlendloe         7670\n",
       "konservativ      13000\n",
       "lenealexandra    50465\n",
       "oslopolitiops    45360\n",
       "Name: user, dtype: int64"
      ]
     },
     "execution_count": 11,
     "metadata": {},
     "output_type": "execute_result"
    }
   ],
   "source": [
    "# Further, it could be interesting to know how many tweets are from each author. This is a summary:\n",
    "raw.groupby(\"user\")['user'].count()"
   ]
  },
  {
   "cell_type": "markdown",
   "metadata": {},
   "source": [
    "#### Split into training and test\n",
    "When we build our model it is important that we test on a different dataset than we train on.\n",
    "Otherwise, we could just have written a lookup table to predict each tweet author.\n",
    "Instead, we want the model to be able to generalize \n",
    "i.e. that it in some sense understand what makes a tweet belong to that author.\n",
    "\n",
    "When we train the algorithm, it will only see the training data. \n",
    "Then, when we have finished training, we see how well it is doing on the test data.\n",
    "\n",
    "We split the data in 80% for training and 20% for testing."
   ]
  },
  {
   "cell_type": "code",
   "execution_count": 12,
   "metadata": {},
   "outputs": [
    {
     "name": "stdout",
     "output_type": "stream",
     "text": [
      "We have 91331 tweets in training set and 38939 tweets in the test set\n"
     ]
    }
   ],
   "source": [
    "np.random.seed(42)\n",
    "train_ind = np.random.rand(X.shape[0]) < 0.7\n",
    "X_train = X[train_ind,]\n",
    "X_test = X[~train_ind,]\n",
    "y_train = y[train_ind]\n",
    "y_test = y[~train_ind]\n",
    "assert(len(np.unique(y_train)) ==  len(np.unique(y_test)))\n",
    "\n",
    "print(\"We have %d tweets in training set and %d tweets in the test set\"% (X_train.shape[0], X_test.shape[0]))"
   ]
  },
  {
   "cell_type": "markdown",
   "metadata": {},
   "source": [
    "## Build machine learning model (start here!)\n",
    "This is where the machine learning starts.\n",
    "Hopefully, you havent really looked at what we did above, so there will be short recap of what we have right now.\n",
    "\n",
    "### Data:  \n",
    "We have also split our data into the training data (X_train, y_train), and the test data (X_test, y_test).\n",
    "When we build our model, we will only train it using the training data, but we will check how well it is doing it using the test data.\n",
    "\n",
    "- The tweets are stored in X_train and X_test.  \n",
    "- The authors of the corresponding tweets are stored in y_train and y_test.\n",
    "\n"
   ]
  },
  {
   "cell_type": "code",
   "execution_count": 13,
   "metadata": {},
   "outputs": [
    {
     "name": "stdout",
     "output_type": "stream",
     "text": [
      "The first tweet in our training data looks like this: \n",
      "[    2  7872  7513 12553     2     0     0     0     0     0     0     0\n",
      "     0     0     0     0     0     0     0     0     0     0     0     0\n",
      "     0     0     0     0     0     0     0     0     0     0     0     0\n",
      "     0     0     0     0]\n",
      "We can decode it back to natural language by using the decoding function: \n",
      "--\n",
      " keep it simple \n",
      "--\n",
      "Then we can get the author of the tweet by looking in the y_train variable: \n",
      "--\n",
      "5\n",
      "--\n",
      "Which corresponds to the author...: \n",
      "--\n",
      "lenealexandra\n"
     ]
    }
   ],
   "source": [
    "print(\"The first tweet in our training data looks like this: \")\n",
    "print(X_train[0,])\n",
    "print(\"We can decode it back to natural language by using the decoding function: \")\n",
    "print('--')\n",
    "print(decode_tweet(X_train[0,]))\n",
    "print('--')\n",
    "print(\"Then we can get the author of the tweet by looking in the y_train variable: \")\n",
    "print(\"--\")\n",
    "print(y[0])\n",
    "print(\"--\")\n",
    "print(\"Which corresponds to the author...: \")\n",
    "print(\"--\")\n",
    "print(ind2class[y[0]])"
   ]
  },
  {
   "cell_type": "markdown",
   "metadata": {},
   "source": [
    "### Algorithm\n",
    "We will build our model in a framework called [Keras](http://keras.io).\n",
    "It is a deep learning framework using tensorflow as its backend (not important).\n",
    "\n",
    "This first model is the model showed in the slides."
   ]
  },
  {
   "cell_type": "code",
   "execution_count": 14,
   "metadata": {},
   "outputs": [],
   "source": [
    "tweet_input = Input((PAD_LENGTH,))\n",
    "emb = Embedding(input_dim = len(ind2word), output_dim= 5)\n",
    "\n",
    "# We can represent each word as a vector of length 5:\n",
    "word_vectors = emb(tweet_input)\n",
    "\n",
    "# These word vectors are generic, \n",
    "# The simplest way to handle them is just to use the average word vector:\n",
    "avg_word_vectors = Lambda(lambda x: K.mean(x, 1))(word_vectors)\n",
    "x = avg_word_vectors\n",
    "x = Dense(10, activation = \"relu\")(x)\n",
    "x = Dense(N_classes, activation = \"softmax\")(x)\n",
    "\n",
    "\n",
    "model = Model(inputs = tweet_input, outputs = x)\n",
    "\n",
    "optimizer = keras.optimizers.SGD(lr = 0.05)\n",
    "model.compile(loss = \"sparse_categorical_crossentropy\",\n",
    "              optimizer = optimizer, \n",
    "              metrics = [\"accuracy\"])"
   ]
  },
  {
   "cell_type": "code",
   "execution_count": 15,
   "metadata": {},
   "outputs": [
    {
     "name": "stdout",
     "output_type": "stream",
     "text": [
      "Train on 91331 samples, validate on 38939 samples\n",
      "Epoch 1/10\n",
      " - 6s - loss: 1.3811 - acc: 0.4752 - val_loss: 1.3215 - val_acc: 0.5091\n",
      "Epoch 2/10\n",
      " - 9s - loss: 1.2306 - acc: 0.5545 - val_loss: 1.1216 - val_acc: 0.5744\n",
      "Epoch 3/10\n",
      " - 6s - loss: 0.9583 - acc: 0.6564 - val_loss: 0.9819 - val_acc: 0.6391\n",
      "Epoch 4/10\n",
      " - 7s - loss: 0.8552 - acc: 0.7015 - val_loss: 0.7594 - val_acc: 0.7516\n",
      "Epoch 5/10\n",
      " - 7s - loss: 0.7916 - acc: 0.7294 - val_loss: 0.7365 - val_acc: 0.7631\n",
      "Epoch 6/10\n",
      " - 6s - loss: 0.7470 - acc: 0.7448 - val_loss: 3.4286 - val_acc: 0.3742\n",
      "Epoch 7/10\n",
      " - 6s - loss: 0.7086 - acc: 0.7583 - val_loss: 0.7739 - val_acc: 0.7341\n",
      "Epoch 8/10\n",
      " - 6s - loss: 0.6910 - acc: 0.7653 - val_loss: 4.7581 - val_acc: 0.3768\n",
      "Epoch 9/10\n",
      " - 6s - loss: 0.6601 - acc: 0.7760 - val_loss: 1.9363 - val_acc: 0.3267\n",
      "Epoch 10/10\n",
      " - 6s - loss: 0.6429 - acc: 0.7807 - val_loss: 0.8094 - val_acc: 0.6618\n"
     ]
    },
    {
     "data": {
      "text/plain": [
       "<keras.callbacks.History at 0x7fd2d0a9a940>"
      ]
     },
     "execution_count": 15,
     "metadata": {},
     "output_type": "execute_result"
    }
   ],
   "source": [
    "model.fit(X_train,y_train, \n",
    "          verbose = 2,\n",
    "          validation_data = (X_test, y_test),\n",
    "         epochs = 10)"
   ]
  },
  {
   "cell_type": "markdown",
   "metadata": {},
   "source": [
    "## See how well the model works"
   ]
  },
  {
   "cell_type": "code",
   "execution_count": 16,
   "metadata": {},
   "outputs": [],
   "source": [
    "# Predict probabilities for each class:\n",
    "yhat_probs = model.predict(X_test)\n",
    "yhat = yhat_probs.argmax(axis=1)"
   ]
  },
  {
   "cell_type": "code",
   "execution_count": 17,
   "metadata": {},
   "outputs": [],
   "source": [
    "confusion = confusion_matrix(y_test,yhat)\n",
    "#confusion"
   ]
  },
  {
   "cell_type": "code",
   "execution_count": 18,
   "metadata": {},
   "outputs": [
    {
     "data": {
      "text/html": [
       "<div>\n",
       "<style scoped>\n",
       "    .dataframe tbody tr th:only-of-type {\n",
       "        vertical-align: middle;\n",
       "    }\n",
       "\n",
       "    .dataframe tbody tr th {\n",
       "        vertical-align: top;\n",
       "    }\n",
       "\n",
       "    .dataframe thead th {\n",
       "        text-align: right;\n",
       "    }\n",
       "</style>\n",
       "<table border=\"1\" class=\"dataframe\">\n",
       "  <thead>\n",
       "    <tr style=\"text-align: right;\">\n",
       "      <th>predicted</th>\n",
       "      <th>Fotballfrue</th>\n",
       "      <th>HadiaTajik</th>\n",
       "      <th>audunstrand</th>\n",
       "      <th>erlendloe</th>\n",
       "      <th>konservativ</th>\n",
       "      <th>lenealexandra</th>\n",
       "      <th>oslopolitiops</th>\n",
       "    </tr>\n",
       "    <tr>\n",
       "      <th>true</th>\n",
       "      <th></th>\n",
       "      <th></th>\n",
       "      <th></th>\n",
       "      <th></th>\n",
       "      <th></th>\n",
       "      <th></th>\n",
       "      <th></th>\n",
       "    </tr>\n",
       "  </thead>\n",
       "  <tbody>\n",
       "    <tr>\n",
       "      <th>Fotballfrue</th>\n",
       "      <td>0.69</td>\n",
       "      <td>0.0</td>\n",
       "      <td>0.0</td>\n",
       "      <td>0.01</td>\n",
       "      <td>0.11</td>\n",
       "      <td>0.11</td>\n",
       "      <td>0.09</td>\n",
       "    </tr>\n",
       "    <tr>\n",
       "      <th>HadiaTajik</th>\n",
       "      <td>0.01</td>\n",
       "      <td>0.0</td>\n",
       "      <td>0.0</td>\n",
       "      <td>0.17</td>\n",
       "      <td>0.41</td>\n",
       "      <td>0.21</td>\n",
       "      <td>0.21</td>\n",
       "    </tr>\n",
       "    <tr>\n",
       "      <th>audunstrand</th>\n",
       "      <td>0.03</td>\n",
       "      <td>0.0</td>\n",
       "      <td>0.0</td>\n",
       "      <td>0.13</td>\n",
       "      <td>0.39</td>\n",
       "      <td>0.18</td>\n",
       "      <td>0.26</td>\n",
       "    </tr>\n",
       "    <tr>\n",
       "      <th>erlendloe</th>\n",
       "      <td>0.00</td>\n",
       "      <td>0.0</td>\n",
       "      <td>0.0</td>\n",
       "      <td>0.15</td>\n",
       "      <td>0.41</td>\n",
       "      <td>0.20</td>\n",
       "      <td>0.23</td>\n",
       "    </tr>\n",
       "    <tr>\n",
       "      <th>konservativ</th>\n",
       "      <td>0.00</td>\n",
       "      <td>0.0</td>\n",
       "      <td>0.0</td>\n",
       "      <td>0.08</td>\n",
       "      <td>0.43</td>\n",
       "      <td>0.16</td>\n",
       "      <td>0.33</td>\n",
       "    </tr>\n",
       "    <tr>\n",
       "      <th>lenealexandra</th>\n",
       "      <td>0.00</td>\n",
       "      <td>0.0</td>\n",
       "      <td>0.0</td>\n",
       "      <td>0.01</td>\n",
       "      <td>0.05</td>\n",
       "      <td>0.56</td>\n",
       "      <td>0.37</td>\n",
       "    </tr>\n",
       "    <tr>\n",
       "      <th>oslopolitiops</th>\n",
       "      <td>0.00</td>\n",
       "      <td>0.0</td>\n",
       "      <td>0.0</td>\n",
       "      <td>0.00</td>\n",
       "      <td>0.00</td>\n",
       "      <td>0.00</td>\n",
       "      <td>1.00</td>\n",
       "    </tr>\n",
       "  </tbody>\n",
       "</table>\n",
       "</div>"
      ],
      "text/plain": [
       "predicted      Fotballfrue  HadiaTajik  audunstrand  erlendloe  konservativ  \\\n",
       "true                                                                          \n",
       "Fotballfrue           0.69         0.0          0.0       0.01         0.11   \n",
       "HadiaTajik            0.01         0.0          0.0       0.17         0.41   \n",
       "audunstrand           0.03         0.0          0.0       0.13         0.39   \n",
       "erlendloe             0.00         0.0          0.0       0.15         0.41   \n",
       "konservativ           0.00         0.0          0.0       0.08         0.43   \n",
       "lenealexandra         0.00         0.0          0.0       0.01         0.05   \n",
       "oslopolitiops         0.00         0.0          0.0       0.00         0.00   \n",
       "\n",
       "predicted      lenealexandra  oslopolitiops  \n",
       "true                                         \n",
       "Fotballfrue             0.11           0.09  \n",
       "HadiaTajik              0.21           0.21  \n",
       "audunstrand             0.18           0.26  \n",
       "erlendloe               0.20           0.23  \n",
       "konservativ             0.16           0.33  \n",
       "lenealexandra           0.56           0.37  \n",
       "oslopolitiops           0.00           1.00  "
      ]
     },
     "execution_count": 18,
     "metadata": {},
     "output_type": "execute_result"
    }
   ],
   "source": [
    "rel_confusion = np.round(confusion / confusion.sum(axis=1, keepdims = True),2)\n",
    "rel_confusion = pd.DataFrame(rel_confusion, columns = ind2class.values(), index= ind2class.values())\n",
    "rel_confusion.index.name = \"true\"\n",
    "rel_confusion.columns.name = \"predicted\"\n",
    "rel_confusion"
   ]
  },
  {
   "cell_type": "code",
   "execution_count": 19,
   "metadata": {},
   "outputs": [
    {
     "data": {
      "text/plain": [
       "<matplotlib.axes._subplots.AxesSubplot at 0x7fd2d101c4a8>"
      ]
     },
     "execution_count": 19,
     "metadata": {},
     "output_type": "execute_result"
    },
    {
     "data": {
      "image/png": "[encoded data removed]",
      "text/plain": [
       "<matplotlib.figure.Figure at 0x7fd2d0a9a240>"
      ]
     },
     "metadata": {},
     "output_type": "display_data"
    }
   ],
   "source": [
    "sns.heatmap(rel_confusion)"
   ]
  },
  {
   "cell_type": "code",
   "execution_count": 20,
   "metadata": {},
   "outputs": [],
   "source": [
    "def show_random_error():\n",
    "    errors = np.where(y_test != yhat)[0]\n",
    "    idx = np.random.choice(errors)\n",
    "    print('--- Tweet: ---')\n",
    "    print(decode_tweet(X_test[idx,]))\n",
    "    \n",
    "    print(\"Model believes:\\t %s\" %ind2class[yhat[idx]])\n",
    "    print(\"True author:\\t %s\" %ind2class[y_test[idx]])"
   ]
  },
  {
   "cell_type": "code",
   "execution_count": 21,
   "metadata": {},
   "outputs": [
    {
     "name": "stdout",
     "output_type": "stream",
     "text": [
      "--- Tweet: ---\n",
      "deilig å komme hjem fra jobb til ferdig middag \n",
      "Model believes:\t oslopolitiops\n",
      "True author:\t lenealexandra\n"
     ]
    }
   ],
   "source": [
    "show_random_error()"
   ]
  },
  {
   "cell_type": "markdown",
   "metadata": {},
   "source": [
    "## Now it's your turn..\n",
    "\n",
    "Are you able to make a better model than the one we just ran? \n",
    "\n",
    "Possible extensions of the model:\n",
    "\n",
    "- Try to increase the width of the dense layer (https://keras.io/layers/core/#dense)\n",
    "- Try to adjust the learning rate of your optimizer. Lower learning rates takes long but usually gives better results (https://keras.io/optimizers/)\n",
    "- Try to use a different optimizer. The Adam optizer is often a good alternative \n",
    "- Try to stack another dense layer on top of the one you have (or many!)\n",
    "- We are just using the \"average\" vector to predict. Could we try to stack the words horizontally instead? (https://keras.io/layers/core/#reshape)\n",
    "- Are the training accuracy much higher than the test accuracy? Try to add Dropout (https://keras.io/layers/core/#dropout) or Batch Normalization (https://keras.io/layers/normalization/)\n",
    "- Instead those average vectors, a very fancy alternative approach would be to try to model a tweet as a recurrent neural network (https://keras.io/layers/recurrent/)"
   ]
  },
  {
   "cell_type": "code",
   "execution_count": null,
   "metadata": {},
   "outputs": [],
   "source": []
  }
 ],
 "metadata": {
  "kernelspec": {
   "display_name": "Python 3",
   "language": "python",
   "name": "python3"
  },
  "language_info": {
   "codemirror_mode": {
    "name": "ipython",
    "version": 3
   },
   "file_extension": ".py",
   "mimetype": "text/x-python",
   "name": "python",
   "nbconvert_exporter": "python",
   "pygments_lexer": "ipython3",
   "version": "3.5.2"
  }
 },
 "nbformat": 4,
 "nbformat_minor": 2
}
