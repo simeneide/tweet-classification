{
 "cells": [
  {
   "cell_type": "markdown",
   "metadata": {},
   "source": [
    "# Classifying Twitter users based on their tweets\n",
    "In this workshop we will figure out who wrote which tweets from Norwegian celebrities.\n"
   ]
  },
  {
   "cell_type": "code",
   "execution_count": 1,
   "metadata": {},
   "outputs": [],
   "source": [
    "import datetime\n",
    "import jsonlines\n",
    "import os\n",
    "import pandas as pd\n",
    "import numpy as np\n",
    "%matplotlib inline"
   ]
  },
  {
   "cell_type": "markdown",
   "metadata": {},
   "source": [
    "## Build dataset\n",
    "First we need to build our dataset.\n",
    "This is not really part of the workshop, but the preparation code is left here so that those interested can check it out later.\n",
    "In the data directory there is some files from the twitter users we will investigate.\n",
    "Basically what we do is the following:\n",
    "\n",
    "- Read the files and put them in a nice pandas dataframe\n",
    "- Build a vocabulary of all words and give them indicies\n",
    "- Transform all tweets into indicies (something required by tensorflow later)\n"
   ]
  },
  {
   "cell_type": "markdown",
   "metadata": {},
   "source": [
    "#### Read files "
   ]
  },
  {
   "cell_type": "code",
   "execution_count": 2,
   "metadata": {},
   "outputs": [
    {
     "name": "stdout",
     "output_type": "stream",
     "text": [
      "Did not manage to process: data/.DS_Store\n",
      "We got 122479 observations in our dataset. The first 5 looks like this:\n"
     ]
    },
    {
     "data": {
      "text/html": [
       "<div>\n",
       "<style>\n",
       "    .dataframe thead tr:only-child th {\n",
       "        text-align: right;\n",
       "    }\n",
       "\n",
       "    .dataframe thead th {\n",
       "        text-align: left;\n",
       "    }\n",
       "\n",
       "    .dataframe tbody tr th {\n",
       "        vertical-align: top;\n",
       "    }\n",
       "</style>\n",
       "<table border=\"1\" class=\"dataframe\">\n",
       "  <thead>\n",
       "    <tr style=\"text-align: right;\">\n",
       "      <th></th>\n",
       "      <th>id</th>\n",
       "      <th>likes</th>\n",
       "      <th>retweets</th>\n",
       "      <th>text</th>\n",
       "      <th>timestamp</th>\n",
       "      <th>url</th>\n",
       "      <th>user</th>\n",
       "    </tr>\n",
       "  </thead>\n",
       "  <tbody>\n",
       "    <tr>\n",
       "      <th>0</th>\n",
       "      <td>8054916719312896</td>\n",
       "      <td>0</td>\n",
       "      <td>0</td>\n",
       "      <td>@OJacobsen Du kan seriøst ikke ha ment at jeg ...</td>\n",
       "      <td>2010-11-26 23:00:00</td>\n",
       "      <td>/lenealexandra/status/8054916719312896</td>\n",
       "      <td>lenealexandra</td>\n",
       "    </tr>\n",
       "    <tr>\n",
       "      <th>1</th>\n",
       "      <td>416268617236217856</td>\n",
       "      <td>2</td>\n",
       "      <td>5</td>\n",
       "      <td>Odvar Solbergs vei: Melding om brann. Nødetate...</td>\n",
       "      <td>2013-12-28 16:00:00</td>\n",
       "      <td>/oslopolitiops/status/416268617236217856</td>\n",
       "      <td>oslopolitiops</td>\n",
       "    </tr>\n",
       "    <tr>\n",
       "      <th>2</th>\n",
       "      <td>893608537397526528</td>\n",
       "      <td>6</td>\n",
       "      <td>3</td>\n",
       "      <td>Kjelsås: Hundepatrulje og noen andre patruljer...</td>\n",
       "      <td>2017-08-05 11:00:00</td>\n",
       "      <td>/oslopolitiops/status/893608537397526528</td>\n",
       "      <td>oslopolitiops</td>\n",
       "    </tr>\n",
       "    <tr>\n",
       "      <th>3</th>\n",
       "      <td>801173754407632896</td>\n",
       "      <td>12</td>\n",
       "      <td>4</td>\n",
       "      <td>Politiet er i nedre del av Bogstadveien. Vi ha...</td>\n",
       "      <td>2016-11-23 19:00:00</td>\n",
       "      <td>/oslopolitiops/status/801173754407632896</td>\n",
       "      <td>oslopolitiops</td>\n",
       "    </tr>\n",
       "    <tr>\n",
       "      <th>4</th>\n",
       "      <td>12083964575490048</td>\n",
       "      <td>0</td>\n",
       "      <td>0</td>\n",
       "      <td>@julius68 Jeg klarer å skille mellom drøm og v...</td>\n",
       "      <td>2010-12-08 02:00:00</td>\n",
       "      <td>/lenealexandra/status/12083964575490048</td>\n",
       "      <td>lenealexandra</td>\n",
       "    </tr>\n",
       "  </tbody>\n",
       "</table>\n",
       "</div>"
      ],
      "text/plain": [
       "                   id likes retweets  \\\n",
       "0    8054916719312896     0        0   \n",
       "1  416268617236217856     2        5   \n",
       "2  893608537397526528     6        3   \n",
       "3  801173754407632896    12        4   \n",
       "4   12083964575490048     0        0   \n",
       "\n",
       "                                                text           timestamp  \\\n",
       "0  @OJacobsen Du kan seriøst ikke ha ment at jeg ... 2010-11-26 23:00:00   \n",
       "1  Odvar Solbergs vei: Melding om brann. Nødetate... 2013-12-28 16:00:00   \n",
       "2  Kjelsås: Hundepatrulje og noen andre patruljer... 2017-08-05 11:00:00   \n",
       "3  Politiet er i nedre del av Bogstadveien. Vi ha... 2016-11-23 19:00:00   \n",
       "4  @julius68 Jeg klarer å skille mellom drøm og v... 2010-12-08 02:00:00   \n",
       "\n",
       "                                        url           user  \n",
       "0    /lenealexandra/status/8054916719312896  lenealexandra  \n",
       "1  /oslopolitiops/status/416268617236217856  oslopolitiops  \n",
       "2  /oslopolitiops/status/893608537397526528  oslopolitiops  \n",
       "3  /oslopolitiops/status/801173754407632896  oslopolitiops  \n",
       "4   /lenealexandra/status/12083964575490048  lenealexandra  "
      ]
     },
     "execution_count": 2,
     "metadata": {},
     "output_type": "execute_result"
    }
   ],
   "source": [
    "# Read files:\n",
    "def load_files_and_create_dataframe():\n",
    "    files = ['data/' + f for f in os.listdir(\"data\")]\n",
    "    L = []\n",
    "    for path in files:\n",
    "        try:\n",
    "            with jsonlines.open(path, mode='r') as reader:\n",
    "                tmp = [line for line in reader.iter()]\n",
    "                if len(tmp) > 50 & isinstance(tmp, list):\n",
    "                    L.extend(tmp)\n",
    "                else:\n",
    "                    print(\"%s had less than 50 tweets. skipping..\" %path)\n",
    "        except:\n",
    "            print(\"Did not manage to process: %s\" % path) \n",
    "            \n",
    "    raw = pd.DataFrame(L)\n",
    "    raw.timestamp = pd.to_datetime(raw.timestamp)\n",
    "    \n",
    "    # Shuffle dataset and filter out some users that have sneaked into the files \n",
    "    # (i.e. have less than 50 observations)\n",
    "    \n",
    "    counts = raw.user.value_counts()\n",
    "    counts = counts[counts > 50]\n",
    "    keep_users = counts.index\n",
    "    \n",
    "    raw = (\n",
    "        raw[raw.user.isin(keep_users)]\n",
    "        .sample(frac=1) # shuffle dataset\n",
    "        .reset_index(drop=True)\n",
    "    )\n",
    "    return raw\n",
    "\n",
    "raw = load_files_and_create_dataframe()\n",
    "\n",
    "print(\"We got %d observations in our dataset. The first 5 looks like this:\" % raw.shape[0])\n",
    "raw.head()"
   ]
  },
  {
   "cell_type": "markdown",
   "metadata": {},
   "source": [
    "#### Build vocabulary\n",
    "We build a vocabulary of the \"known\" words in the dataset.\n",
    "Essentially we will require that we have seen the word 5 times before for it to be in the vocabulary.\n",
    "Otherwise, we will replace the word with \"UNK\".\n",
    "\n",
    "The rest is pretty straightforward. \n",
    "We split by space and only keep the most important characters in the words.\n"
   ]
  },
  {
   "cell_type": "code",
   "execution_count": 3,
   "metadata": {},
   "outputs": [
    {
     "name": "stdout",
     "output_type": "stream",
     "text": [
      "We have a total vocabulary of 14780 words.\n"
     ]
    }
   ],
   "source": [
    "import re\n",
    "def tokenizeString(s):\n",
    "    s = s.lower().strip()\n",
    "    s = re.sub(u\"([.!?])\", r\" \", s)\n",
    "    s = re.sub(u\"[^a-zA-Z.!#@?\\xf8\\xe6\\xe5]+\", u\" \", s)\n",
    "    s = s.split(\" \")\n",
    "    return s\n",
    "\n",
    "def build_vocabulary(text, min_count = 5):\n",
    "    normalized = text.map(tokenizeString)\n",
    "    all_words = np.array([item for sublist in normalized.values.tolist() for item in sublist])\n",
    "    words, counts = np.unique(all_words, return_counts=True)\n",
    "    keep_words = words[counts > min_count]\n",
    "    ind2word = {i + 2 : w for i, w in enumerate(keep_words)}\n",
    "    ind2word[1] = \"UNK\"\n",
    "    ind2word[0] = \"EMPTY\"\n",
    "    word2ind = {w : i for i, w in ind2word.items()}\n",
    "    \n",
    "    return word2ind, ind2word\n",
    "\n",
    "word2ind, ind2word = build_vocabulary(raw.text)\n",
    "print(\"We have a total vocabulary of %d words.\" % len(word2ind))\n"
   ]
  },
  {
   "cell_type": "code",
   "execution_count": 4,
   "metadata": {},
   "outputs": [
    {
     "name": "stdout",
     "output_type": "stream",
     "text": [
      "If you want to find the index of a word:\n",
      "6456\n",
      "Similarly: If you want to find the word corresponding to an index:\n",
      "#adaxbycarolinebergeriksen\n"
     ]
    }
   ],
   "source": [
    "print(\"If you want to find the index of a word:\")\n",
    "print( word2ind[\"hus\"] )\n",
    "print(\"Similarly: If you want to find the word corresponding to an index:\")\n",
    "print( ind2word[5] )"
   ]
  },
  {
   "cell_type": "markdown",
   "metadata": {},
   "source": [
    "#### Preprocess text\n",
    "Now we want to transform all tweets from words to a fixed length index.\n",
    "We do this in two steps:\n",
    "- First we transform each word into an index (the vocabulary we defined above)\n",
    "- Then we set all tweets to a length of 40. If a tweet does not have 40 words then we fill with empty words. If the tweet have more, we truncate the end.\n",
    "\n",
    "The whole process is contained in the encode_text function. Also see that we have a decode_tweet function to go back again!"
   ]
  },
  {
   "cell_type": "code",
   "execution_count": 5,
   "metadata": {},
   "outputs": [
    {
     "name": "stderr",
     "output_type": "stream",
     "text": [
      "Using TensorFlow backend.\n"
     ]
    }
   ],
   "source": [
    "# Prepare sequences:\n",
    "from keras.preprocessing.sequence import pad_sequences\n",
    "vectorize_tweet = lambda x: [word2ind.get(w,1) for w in x]\n",
    "PAD_LENGTH = 40\n",
    "\n",
    "def encode_text(s, padlen = PAD_LENGTH):\n",
    "    tokenized = tokenizeString(s)\n",
    "    vectorized = vectorize_tweet(tokenized)\n",
    "    padded = pad_sequences([vectorized], maxlen = padlen, padding = \"post\", truncating= \"post\")\n",
    "    return padded\n",
    "\n",
    "def decode_tweet(vec):\n",
    "    dec = [ind2word.get(ind) for ind in vec if ind != 0]\n",
    "    return \" \".join(dec)\n",
    "\n",
    "# All the work happens here:\n",
    "X = np.squeeze(np.array(raw.text.map(encode_text).values.tolist()))#.shape"
   ]
  },
  {
   "cell_type": "code",
   "execution_count": 6,
   "metadata": {},
   "outputs": [
    {
     "name": "stdout",
     "output_type": "stream",
     "text": [
      "We now have all our tweets in the numpy array X. Each row is a tweet (in total 122479), and each column is a word (in total 40)\n",
      "We can easily decode a tweet by doing the following:\n"
     ]
    },
    {
     "data": {
      "text/plain": [
       "'den UNK er en eldre kvinne obre vil holde på med slukking i timer til men bygget er UNK '"
      ]
     },
     "execution_count": 6,
     "metadata": {},
     "output_type": "execute_result"
    }
   ],
   "source": [
    "print(\"We now have all our tweets in the numpy array X. Each row is a tweet (in total %d), and each column is a word (in total %d)\" % (X.shape[0], X.shape[1]))\n",
    "\n",
    "print(\"We can easily decode a tweet by doing the following:\")\n",
    "decode_tweet(X[40,])"
   ]
  },
  {
   "cell_type": "markdown",
   "metadata": {},
   "source": [
    "#### Preprocess labels\n",
    "Each author represent a class. The classes needs to be represented by indicies.\n",
    "Therefore, we will also transform all the usernames into numbers."
   ]
  },
  {
   "cell_type": "code",
   "execution_count": 7,
   "metadata": {},
   "outputs": [
    {
     "name": "stdout",
     "output_type": "stream",
     "text": [
      "The index -> author mapping can be found in this dictionary:\n"
     ]
    },
    {
     "data": {
      "text/plain": [
       "{0: 'Fotballfrue',\n",
       " 1: 'HadiaTajik',\n",
       " 2: 'konservativ',\n",
       " 3: 'lenealexandra',\n",
       " 4: 'oslopolitiops'}"
      ]
     },
     "execution_count": 7,
     "metadata": {},
     "output_type": "execute_result"
    }
   ],
   "source": [
    "from sklearn import preprocessing\n",
    "def build_classes(labels):\n",
    "    le = preprocessing.LabelEncoder()\n",
    "    le.fit(labels)\n",
    "    label_index = le.transform(labels)\n",
    "    ind2class = {i : user for i, user in  enumerate(le.classes_)}\n",
    "    return label_index, ind2class\n",
    "\n",
    "raw['user_class'], ind2class = build_classes(raw['user'])\n",
    "N_classes = len(ind2class) # Store total number of authors somewhere\n",
    "print(\"The index -> author mapping can be found in this dictionary:\")\n",
    "ind2class"
   ]
  },
  {
   "cell_type": "code",
   "execution_count": 8,
   "metadata": {},
   "outputs": [],
   "source": [
    "y = raw.user_class.values"
   ]
  },
  {
   "cell_type": "markdown",
   "metadata": {},
   "source": [
    "#### Split into training and test\n",
    "When we build our model it is important that we test on a different dataset than we train on.\n",
    "Otherwise, we could just have written a lookup table to predict each tweet author.\n",
    "Instead, we want the model to be able to generalize \n",
    "i.e. that it in some sense understand what makes a tweet belong to that author.\n",
    "\n",
    "When we train the algorithm, it will only see the training data. \n",
    "Then, when we have finished training, we see how well it is doing on the test data.\n",
    "\n",
    "We split the data in 80% for training and 20% for testing."
   ]
  },
  {
   "cell_type": "code",
   "execution_count": 9,
   "metadata": {},
   "outputs": [
    {
     "name": "stdout",
     "output_type": "stream",
     "text": [
      "We have 97987 tweets in training set and 24492 tweets in the test set\n"
     ]
    }
   ],
   "source": [
    "np.random.seed(42)\n",
    "train_ind = np.random.rand(X.shape[0]) < 0.8\n",
    "X_train = X[train_ind,]\n",
    "X_test = X[~train_ind,]\n",
    "y_train = y[train_ind]\n",
    "y_test = y[~train_ind]\n",
    "assert(len(np.unique(y_train)) ==  len(np.unique(y_test)))\n",
    "\n",
    "print(\"We have %d tweets in training set and %d tweets in the test set\"% (X_train.shape[0], X_test.shape[0]))"
   ]
  },
  {
   "cell_type": "markdown",
   "metadata": {},
   "source": [
    "## Start here\n",
    "This is where the machine learning starts.\n",
    "Hopefully, you havent really looked at what we did above, so there will be short recap of what we have right now.\n",
    "\n",
    "Data:\n",
    "We have many tweets stored in X_train and X_test.\n",
    "We have five classes that represent five different twitter accounts. The truth of each tweet in X is found in a variable y.\n",
    "\n",
    "... need to finish this ..."
   ]
  },
  {
   "cell_type": "markdown",
   "metadata": {},
   "source": [
    "## Build machine learning model\n",
    "We will build neural networks.\n",
    "\n",
    "Explain:\n",
    "- linear regression\n",
    "- word embeddings\n",
    "\n",
    "... finish this bit as well ..."
   ]
  },
  {
   "cell_type": "code",
   "execution_count": 10,
   "metadata": {},
   "outputs": [],
   "source": [
    "import keras\n",
    "from keras.layers import *\n",
    "from keras.models import Model"
   ]
  },
  {
   "cell_type": "code",
   "execution_count": 26,
   "metadata": {},
   "outputs": [],
   "source": [
    "tweet_input = Input((PAD_LENGTH,))\n",
    "emb = Embedding(input_dim = len(ind2word), output_dim= 5)\n",
    "\n",
    "# We can represent each word as a vector of length 5:\n",
    "word_vectors = emb(tweet_input)\n",
    "\n",
    "# These word vectors are generic, \n",
    "# The simplest way to handle them is just to use the average word vector:\n",
    "avg_word_vectors = Lambda(lambda x: K.mean(x, 1))(word_vectors)\n",
    "x = avg_word_vectors\n",
    "x = Dropout(0.2)(x)\n",
    "x = Dense(20, activation = \"relu\")(x)\n",
    "#x = Dropout(0.2)(x)\n",
    "#x = Dense(100)(x)\n",
    "#x = Dropout(0.2)(x)\n",
    "x = Dense(N_classes, activation = \"softmax\")(x)\n",
    "\n",
    "\n",
    "model = Model(inputs = tweet_input, outputs = x)\n",
    "\n",
    "optimizer = keras.optimizers.SGD(lr = 0.05)\n",
    "model.compile(loss=\"sparse_categorical_crossentropy\", \n",
    "              optimizer = optimizer, \n",
    "              metrics=[\"accuracy\"])"
   ]
  },
  {
   "cell_type": "code",
   "execution_count": 27,
   "metadata": {},
   "outputs": [
    {
     "name": "stdout",
     "output_type": "stream",
     "text": [
      "Train on 97987 samples, validate on 24492 samples\n",
      "Epoch 1/15\n",
      "8s - loss: 1.2369 - acc: 0.4955 - val_loss: 1.2056 - val_acc: 0.5512\n",
      "Epoch 2/15\n",
      "7s - loss: 1.0630 - acc: 0.6158 - val_loss: 0.9002 - val_acc: 0.7211\n",
      "Epoch 3/15\n",
      "7s - loss: 0.8394 - acc: 0.7005 - val_loss: 0.6956 - val_acc: 0.7486\n",
      "Epoch 4/15\n",
      "7s - loss: 0.7201 - acc: 0.7459 - val_loss: 0.9269 - val_acc: 0.6647\n",
      "Epoch 5/15\n",
      "7s - loss: 0.6434 - acc: 0.7777 - val_loss: 0.7705 - val_acc: 0.7423\n",
      "Epoch 6/15\n",
      "7s - loss: 0.5972 - acc: 0.7944 - val_loss: 0.5321 - val_acc: 0.8155\n",
      "Epoch 7/15\n",
      "7s - loss: 0.5680 - acc: 0.8055 - val_loss: 0.5826 - val_acc: 0.8175\n",
      "Epoch 8/15\n",
      "7s - loss: 0.5460 - acc: 0.8133 - val_loss: 0.4770 - val_acc: 0.8409\n",
      "Epoch 9/15\n",
      "7s - loss: 0.5273 - acc: 0.8193 - val_loss: 0.4737 - val_acc: 0.8286\n",
      "Epoch 10/15\n",
      "7s - loss: 0.5183 - acc: 0.8237 - val_loss: 0.4798 - val_acc: 0.8247\n",
      "Epoch 11/15\n",
      "7s - loss: 0.5011 - acc: 0.8292 - val_loss: 0.5056 - val_acc: 0.8253\n",
      "Epoch 12/15\n",
      "7s - loss: 0.4892 - acc: 0.8337 - val_loss: 0.6216 - val_acc: 0.7403\n",
      "Epoch 13/15\n",
      "8s - loss: 0.4818 - acc: 0.8362 - val_loss: 0.3907 - val_acc: 0.8620\n",
      "Epoch 14/15\n",
      "7s - loss: 0.4767 - acc: 0.8377 - val_loss: 0.4410 - val_acc: 0.8478\n",
      "Epoch 15/15\n",
      "8s - loss: 0.4652 - acc: 0.8422 - val_loss: 0.3714 - val_acc: 0.8689\n"
     ]
    },
    {
     "data": {
      "text/plain": [
       "<keras.callbacks.History at 0x1152b9208>"
      ]
     },
     "execution_count": 27,
     "metadata": {},
     "output_type": "execute_result"
    }
   ],
   "source": [
    "model.fit(X_train,y_train, \n",
    "          verbose = 2,\n",
    "          validation_data = (X_test, y_test),\n",
    "         epochs = 10)"
   ]
  },
  {
   "cell_type": "markdown",
   "metadata": {},
   "source": [
    "## See how well the model works"
   ]
  },
  {
   "cell_type": "code",
   "execution_count": 28,
   "metadata": {},
   "outputs": [],
   "source": [
    "# Predict probabilities for each class:\n",
    "yhat_probs = model.predict(X_test)\n",
    "yhat = yhat_probs.argmax(axis=1)"
   ]
  },
  {
   "cell_type": "code",
   "execution_count": 29,
   "metadata": {},
   "outputs": [],
   "source": [
    "from sklearn.metrics import confusion_matrix\n",
    "confusion = confusion_matrix(y_test,yhat)\n",
    "#confusion"
   ]
  },
  {
   "cell_type": "code",
   "execution_count": 30,
   "metadata": {},
   "outputs": [
    {
     "data": {
      "text/html": [
       "<div>\n",
       "<style>\n",
       "    .dataframe thead tr:only-child th {\n",
       "        text-align: right;\n",
       "    }\n",
       "\n",
       "    .dataframe thead th {\n",
       "        text-align: left;\n",
       "    }\n",
       "\n",
       "    .dataframe tbody tr th {\n",
       "        vertical-align: top;\n",
       "    }\n",
       "</style>\n",
       "<table border=\"1\" class=\"dataframe\">\n",
       "  <thead>\n",
       "    <tr style=\"text-align: right;\">\n",
       "      <th>predicted</th>\n",
       "      <th>Fotballfrue</th>\n",
       "      <th>HadiaTajik</th>\n",
       "      <th>konservativ</th>\n",
       "      <th>lenealexandra</th>\n",
       "      <th>oslopolitiops</th>\n",
       "    </tr>\n",
       "    <tr>\n",
       "      <th>true</th>\n",
       "      <th></th>\n",
       "      <th></th>\n",
       "      <th></th>\n",
       "      <th></th>\n",
       "      <th></th>\n",
       "    </tr>\n",
       "  </thead>\n",
       "  <tbody>\n",
       "    <tr>\n",
       "      <th>Fotballfrue</th>\n",
       "      <td>0.82</td>\n",
       "      <td>0.00</td>\n",
       "      <td>0.02</td>\n",
       "      <td>0.15</td>\n",
       "      <td>0.01</td>\n",
       "    </tr>\n",
       "    <tr>\n",
       "      <th>HadiaTajik</th>\n",
       "      <td>0.05</td>\n",
       "      <td>0.03</td>\n",
       "      <td>0.50</td>\n",
       "      <td>0.40</td>\n",
       "      <td>0.01</td>\n",
       "    </tr>\n",
       "    <tr>\n",
       "      <th>konservativ</th>\n",
       "      <td>0.01</td>\n",
       "      <td>0.01</td>\n",
       "      <td>0.50</td>\n",
       "      <td>0.45</td>\n",
       "      <td>0.03</td>\n",
       "    </tr>\n",
       "    <tr>\n",
       "      <th>lenealexandra</th>\n",
       "      <td>0.00</td>\n",
       "      <td>0.00</td>\n",
       "      <td>0.02</td>\n",
       "      <td>0.97</td>\n",
       "      <td>0.00</td>\n",
       "    </tr>\n",
       "    <tr>\n",
       "      <th>oslopolitiops</th>\n",
       "      <td>0.00</td>\n",
       "      <td>0.00</td>\n",
       "      <td>0.01</td>\n",
       "      <td>0.03</td>\n",
       "      <td>0.97</td>\n",
       "    </tr>\n",
       "  </tbody>\n",
       "</table>\n",
       "</div>"
      ],
      "text/plain": [
       "predicted      Fotballfrue  HadiaTajik  konservativ  lenealexandra  \\\n",
       "true                                                                 \n",
       "Fotballfrue           0.82        0.00         0.02           0.15   \n",
       "HadiaTajik            0.05        0.03         0.50           0.40   \n",
       "konservativ           0.01        0.01         0.50           0.45   \n",
       "lenealexandra         0.00        0.00         0.02           0.97   \n",
       "oslopolitiops         0.00        0.00         0.01           0.03   \n",
       "\n",
       "predicted      oslopolitiops  \n",
       "true                          \n",
       "Fotballfrue             0.01  \n",
       "HadiaTajik              0.01  \n",
       "konservativ             0.03  \n",
       "lenealexandra           0.00  \n",
       "oslopolitiops           0.97  "
      ]
     },
     "execution_count": 30,
     "metadata": {},
     "output_type": "execute_result"
    }
   ],
   "source": [
    "rel_confusion = np.round(confusion / confusion.sum(axis=1, keepdims = True),2)\n",
    "rel_confusion = pd.DataFrame(rel_confusion, columns = ind2class.values(), index= ind2class.values())\n",
    "rel_confusion.index.name = \"true\"\n",
    "rel_confusion.columns.name = \"predicted\"\n",
    "rel_confusion"
   ]
  },
  {
   "cell_type": "code",
   "execution_count": 31,
   "metadata": {},
   "outputs": [
    {
     "data": {
      "text/plain": [
       "<matplotlib.axes._subplots.AxesSubplot at 0x115200d68>"
      ]
     },
     "execution_count": 31,
     "metadata": {},
     "output_type": "execute_result"
    },
    {
     "data": {
      "image/png": "[encoded data removed]",
      "text/plain": [
       "<matplotlib.figure.Figure at 0x11551d550>"
      ]
     },
     "metadata": {},
     "output_type": "display_data"
    }
   ],
   "source": [
    "import seaborn as sns\n",
    "sns.heatmap(rel_confusion)"
   ]
  },
  {
   "cell_type": "code",
   "execution_count": 32,
   "metadata": {},
   "outputs": [],
   "source": [
    "def show_random_error():\n",
    "    errors = np.where(y_test != yhat)[0]\n",
    "    idx = np.random.choice(errors)\n",
    "    print('--- Tweet: ---')\n",
    "    print(decode_tweet(X_test[idx,]))\n",
    "    \n",
    "    print(\"Model believes:\\t %s\" %ind2class[yhat[idx]])\n",
    "    print(\"True author:\\t %s\" %ind2class[y_test[idx]])"
   ]
  },
  {
   "cell_type": "code",
   "execution_count": 42,
   "metadata": {},
   "outputs": [
    {
     "name": "stdout",
     "output_type": "stream",
     "text": [
      "--- Tweet: ---\n",
      "stortinget skal debattere UNK i dag mitt tips kongen kan føle seg nokså trygg på jobben \n",
      "Model believes:\t lenealexandra\n",
      "True author:\t konservativ\n"
     ]
    }
   ],
   "source": [
    "show_random_error()"
   ]
  },
  {
   "cell_type": "markdown",
   "metadata": {},
   "source": [
    "## Now it's your turn..\n",
    "\n",
    "Are you able to make a better model than the one we just ran? \n",
    "\n",
    "Possible extensions of the model:\n",
    "\n",
    "- Try to increase the width of the dense layer (https://keras.io/layers/core/#dense)\n",
    "- Try to adjust the learning rate of your optimizer. Lower learning rates takes long but usually gives better results (https://keras.io/optimizers/)\n",
    "- Try to use a different optimizer. The Adam optizer is often a good alternative \n",
    "- Try to stack another dense layer on top of the one you have (or many!)\n",
    "- We are just using the \"average\" vector to predict. Could we try to stack the words horizontally instead? (https://keras.io/layers/core/#reshape)\n",
    "- Are the training accuracy much higher than the test accuracy? Try to add Dropout (https://keras.io/layers/core/#dropout) or Batch Normalization (https://keras.io/layers/normalization/)\n",
    "- Instead those average vectors, a very fancy alternative approach would be to try to model a tweet as a recurrent neural network (https://keras.io/layers/recurrent/)"
   ]
  },
  {
   "cell_type": "code",
   "execution_count": null,
   "metadata": {},
   "outputs": [],
   "source": []
  }
 ],
 "metadata": {
  "kernelspec": {
   "display_name": "Python 3",
   "language": "python",
   "name": "python3"
  },
  "language_info": {
   "codemirror_mode": {
    "name": "ipython",
    "version": 3
   },
   "file_extension": ".py",
   "mimetype": "text/x-python",
   "name": "python",
   "nbconvert_exporter": "python",
   "pygments_lexer": "ipython3",
   "version": "3.4.3"
  }
 },
 "nbformat": 4,
 "nbformat_minor": 2
}
