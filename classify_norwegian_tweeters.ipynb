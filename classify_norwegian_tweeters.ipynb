{
 "cells": [
  {
   "cell_type": "code",
   "execution_count": 1,
   "metadata": {},
   "outputs": [],
   "source": [
    "import datetime\n",
    "import jsonlines\n",
    "import os\n",
    "import pandas as pd\n",
    "import numpy as np\n",
    "%matplotlib inline"
   ]
  },
  {
   "cell_type": "markdown",
   "metadata": {},
   "source": [
    "## Build dataset"
   ]
  },
  {
   "cell_type": "code",
   "execution_count": 2,
   "metadata": {},
   "outputs": [
    {
     "name": "stdout",
     "output_type": "stream",
     "text": [
      "Did not manage to process: data/.DS_Store\n",
      "data/AbuHus.jsonl had less than 50 tweets. skipping..\n",
      "data/afarbrot.jsonl had less than 50 tweets. skipping..\n",
      "data/AkselSterri.jsonl had less than 50 tweets. skipping..\n",
      "data/andersnilsen.jsonl had less than 50 tweets. skipping..\n",
      "data/anineki.jsonl had less than 50 tweets. skipping..\n",
      "data/Arbeidsdep.jsonl had less than 50 tweets. skipping..\n",
      "data/Are.jsonl had less than 50 tweets. skipping..\n",
      "data/ArneKristian.jsonl had less than 50 tweets. skipping..\n",
      "data/arnestrand.jsonl had less than 50 tweets. skipping..\n",
      "data/aspevoll.jsonl had less than 50 tweets. skipping..\n",
      "data/astridmeland.jsonl had less than 50 tweets. skipping..\n",
      "data/AuroraMohnStued.jsonl had less than 50 tweets. skipping..\n",
      "data/Basilmaarud.jsonl had less than 50 tweets. skipping..\n",
      "data/BentHHoyre.jsonl had less than 50 tweets. skipping..\n",
      "data/bergingvild.jsonl had less than 50 tweets. skipping..\n",
      "data/berntoluf.jsonl had less than 50 tweets. skipping..\n",
      "data/BI.jsonl had less than 50 tweets. skipping..\n",
      "data/cartas.jsonl had less than 50 tweets. skipping..\n",
      "data/ceciliestaude.jsonl had less than 50 tweets. skipping..\n",
      "data/dagbladet.jsonl had less than 50 tweets. skipping..\n",
      "data/Dagsavisen.jsonl had less than 50 tweets. skipping..\n",
      "data/Edvartsen.jsonl had less than 50 tweets. skipping..\n",
      "data/EkteGinger.jsonl had less than 50 tweets. skipping..\n",
      "data/ericakvam.jsonl had less than 50 tweets. skipping..\n",
      "data/erlendpukstad.jsonl had less than 50 tweets. skipping..\n",
      "data/erna.jsonl had less than 50 tweets. skipping..\n",
      "data/esmoen.jsonl had less than 50 tweets. skipping..\n",
      "data/Fly.jsonl had less than 50 tweets. skipping..\n",
      "data/Folkehelseinst.jsonl had less than 50 tweets. skipping..\n",
      "data/Forsvaret.jsonl had less than 50 tweets. skipping..\n",
      "data/frp.jsonl had less than 50 tweets. skipping..\n",
      "data/glemdet.jsonl had less than 50 tweets. skipping..\n",
      "data/grabein.jsonl had less than 50 tweets. skipping..\n",
      "data/Gulldusjen.jsonl had less than 50 tweets. skipping..\n",
      "data/hakonmos.jsonl had less than 50 tweets. skipping..\n",
      "data/HanneSkartveit.jsonl had less than 50 tweets. skipping..\n",
      "data/hansen.jsonl had less than 50 tweets. skipping..\n",
      "data/HansHenrik.jsonl had less than 50 tweets. skipping..\n",
      "data/hansolavbrenner.jsonl had less than 50 tweets. skipping..\n",
      "data/Hegnar.jsonl had less than 50 tweets. skipping..\n",
      "data/helse.jsonl had less than 50 tweets. skipping..\n",
      "data/henriettebruus.jsonl had less than 50 tweets. skipping..\n",
      "data/henriklied.jsonl had less than 50 tweets. skipping..\n",
      "data/humananorge.jsonl had less than 50 tweets. skipping..\n",
      "data/hurtigruten.jsonl had less than 50 tweets. skipping..\n",
      "data/IKTNorge.jsonl had less than 50 tweets. skipping..\n",
      "data/ingeborgv.jsonl had less than 50 tweets. skipping..\n",
      "data/jantoresanner.jsonl had less than 50 tweets. skipping..\n",
      "data/jcelden.jsonl had less than 50 tweets. skipping..\n",
      "data/jeaalbu.jsonl had less than 50 tweets. skipping..\n",
      "data/johangolden.jsonl had less than 50 tweets. skipping..\n",
      "data/JonNiklas.jsonl had less than 50 tweets. skipping..\n",
      "data/jorgenstenseth.jsonl had less than 50 tweets. skipping..\n",
      "data/KaizrsOrchestra.jsonl had less than 50 tweets. skipping..\n",
      "data/Kjansrud.jsonl had less than 50 tweets. skipping..\n",
      "data/Kjeko.jsonl had less than 50 tweets. skipping..\n",
      "data/KK.jsonl had less than 50 tweets. skipping..\n",
      "data/kkvalvik.jsonl had less than 50 tweets. skipping..\n",
      "data/kreativt.jsonl had less than 50 tweets. skipping..\n",
      "data/Kripos.jsonl had less than 50 tweets. skipping..\n",
      "data/kriseinfo.jsonl had less than 50 tweets. skipping..\n",
      "data/krystallisert.jsonl had less than 50 tweets. skipping..\n",
      "data/lilleheie.jsonl had less than 50 tweets. skipping..\n",
      "data/LPNordhaug.jsonl had less than 50 tweets. skipping..\n",
      "data/magnusronningen.jsonl had less than 50 tweets. skipping..\n",
      "data/mariamena.jsonl had less than 50 tweets. skipping..\n",
      "data/mariusitromso.jsonl had less than 50 tweets. skipping..\n",
      "data/MarkusHenrix.jsonl had less than 50 tweets. skipping..\n",
      "data/Martine.jsonl had less than 50 tweets. skipping..\n",
      "data/mav.jsonl had less than 50 tweets. skipping..\n",
      "data/mediedebatt.jsonl had less than 50 tweets. skipping..\n",
      "data/miljodir.jsonl had less than 50 tweets. skipping..\n",
      "data/Naturvern.jsonl had less than 50 tweets. skipping..\n",
      "data/nikolaiastrup.jsonl had less than 50 tweets. skipping..\n",
      "data/Nina.jsonl had less than 50 tweets. skipping..\n",
      "data/NorskFagforum.jsonl had less than 50 tweets. skipping..\n",
      "data/nortura.jsonl had less than 50 tweets. skipping..\n",
      "data/NRK.jsonl had less than 50 tweets. skipping..\n",
      "data/NRKP3.jsonl had less than 50 tweets. skipping..\n",
      "data/NRKRogaland.jsonl had less than 50 tweets. skipping..\n",
      "data/NRKYtring.jsonl had less than 50 tweets. skipping..\n",
      "data/NTBinfo.jsonl had less than 50 tweets. skipping..\n",
      "data/OdaRygh.jsonl had less than 50 tweets. skipping..\n",
      "data/ole.jsonl had less than 50 tweets. skipping..\n",
      "data/oslostian.jsonl had less than 50 tweets. skipping..\n",
      "data/Oslounivsykehus.jsonl had less than 50 tweets. skipping..\n",
      "data/P3Urort.jsonl had less than 50 tweets. skipping..\n",
      "data/Petter.jsonl had less than 50 tweets. skipping..\n",
      "data/pksbertoli.jsonl had less than 50 tweets. skipping..\n",
      "data/politiskno.jsonl had less than 50 tweets. skipping..\n",
      "data/prompepute.jsonl had less than 50 tweets. skipping..\n",
      "data/radiorune.jsonl had less than 50 tweets. skipping..\n",
      "data/RAsteinroger.jsonl had less than 50 tweets. skipping..\n",
      "data/Real.jsonl had less than 50 tweets. skipping..\n",
      "data/rockefelleroslo.jsonl had less than 50 tweets. skipping..\n",
      "data/Rogalands.jsonl had less than 50 tweets. skipping..\n",
      "data/SarahSorheim.jsonl had less than 50 tweets. skipping..\n",
      "data/solbergkristin.jsonl had less than 50 tweets. skipping..\n",
      "data/sporsem.jsonl had less than 50 tweets. skipping..\n",
      "data/StaalBand.jsonl had less than 50 tweets. skipping..\n",
      "data/StatoilASA.jsonl had less than 50 tweets. skipping..\n",
      "data/SteinarOttesen.jsonl had less than 50 tweets. skipping..\n",
      "data/stormberg.jsonl had less than 50 tweets. skipping..\n",
      "data/streng1.jsonl had less than 50 tweets. skipping..\n",
      "data/StvAftenblad.jsonl had less than 50 tweets. skipping..\n",
      "data/surrogatmor.jsonl had less than 50 tweets. skipping..\n",
      "data/svelle.jsonl had less than 50 tweets. skipping..\n",
      "data/TrineEilertsen.jsonl had less than 50 tweets. skipping..\n",
      "data/tv2nyhetene.jsonl had less than 50 tweets. skipping..\n",
      "data/TV2Wikestad.jsonl had less than 50 tweets. skipping..\n",
      "data/Udir.jsonl had less than 50 tweets. skipping..\n",
      "data/UlrikImtiaz.jsonl had less than 50 tweets. skipping..\n",
      "data/Unitedno.jsonl had less than 50 tweets. skipping..\n",
      "data/UniversalMusicN.jsonl had less than 50 tweets. skipping..\n",
      "data/valebrokkco.jsonl had less than 50 tweets. skipping..\n",
      "data/VGfrithjof.jsonl had less than 50 tweets. skipping..\n",
      "data/vitenwahl.jsonl had less than 50 tweets. skipping..\n",
      "data/yrbilder.jsonl had less than 50 tweets. skipping..\n"
     ]
    }
   ],
   "source": [
    "# Load user tweets\n",
    "files = ['data/' + f for f in os.listdir(\"data\")]\n",
    "L = []\n",
    "for path in files:\n",
    "    try:\n",
    "        with jsonlines.open(path, mode='r') as reader:\n",
    "            tmp = [line for line in reader.iter()]\n",
    "            if len(tmp) > 50 & isinstance(tmp, list):\n",
    "                L.extend(tmp)\n",
    "            else:\n",
    "                print(\"%s had less than 50 tweets. skipping..\" %path)\n",
    "    except:\n",
    "        print(\"Did not manage to process: %s\" % path) "
   ]
  },
  {
   "cell_type": "code",
   "execution_count": 3,
   "metadata": {},
   "outputs": [
    {
     "name": "stdout",
     "output_type": "stream",
     "text": [
      "(3562021, 7)\n"
     ]
    },
    {
     "data": {
      "text/html": [
       "<div>\n",
       "<style>\n",
       "    .dataframe thead tr:only-child th {\n",
       "        text-align: right;\n",
       "    }\n",
       "\n",
       "    .dataframe thead th {\n",
       "        text-align: left;\n",
       "    }\n",
       "\n",
       "    .dataframe tbody tr th {\n",
       "        vertical-align: top;\n",
       "    }\n",
       "</style>\n",
       "<table border=\"1\" class=\"dataframe\">\n",
       "  <thead>\n",
       "    <tr style=\"text-align: right;\">\n",
       "      <th></th>\n",
       "      <th>id</th>\n",
       "      <th>likes</th>\n",
       "      <th>retweets</th>\n",
       "      <th>text</th>\n",
       "      <th>timestamp</th>\n",
       "      <th>url</th>\n",
       "      <th>user</th>\n",
       "    </tr>\n",
       "  </thead>\n",
       "  <tbody>\n",
       "    <tr>\n",
       "      <th>0</th>\n",
       "      <td>934132931274133505</td>\n",
       "      <td>6</td>\n",
       "      <td>0</td>\n",
       "      <td>Same procedure as always @Miniskinstaden</td>\n",
       "      <td>2017-11-26 10:00:00</td>\n",
       "      <td>/AageSki/status/934132931274133505</td>\n",
       "      <td>AageSki</td>\n",
       "    </tr>\n",
       "    <tr>\n",
       "      <th>1</th>\n",
       "      <td>934169505781178368</td>\n",
       "      <td>2</td>\n",
       "      <td>0</td>\n",
       "      <td>3 runder Jørn. Landslagssjefen i kombinert, Iv...</td>\n",
       "      <td>2017-11-24 21:00:00</td>\n",
       "      <td>/AageSki/status/934169505781178368</td>\n",
       "      <td>AageSki</td>\n",
       "    </tr>\n",
       "    <tr>\n",
       "      <th>2</th>\n",
       "      <td>935438113450745856</td>\n",
       "      <td>7</td>\n",
       "      <td>3</td>\n",
       "      <td>Verden trenger hver eneste dråpe olje som Norg...</td>\n",
       "      <td>2017-11-28 09:00:00</td>\n",
       "      <td>/AageSki/status/935438113450745856</td>\n",
       "      <td>AageSki</td>\n",
       "    </tr>\n",
       "    <tr>\n",
       "      <th>3</th>\n",
       "      <td>935825736228835328</td>\n",
       "      <td>2</td>\n",
       "      <td>0</td>\n",
       "      <td>Er det Bob eller Bill Impola som er best ?</td>\n",
       "      <td>2017-11-30 03:00:00</td>\n",
       "      <td>/AageSki/status/935825736228835328</td>\n",
       "      <td>AageSki</td>\n",
       "    </tr>\n",
       "    <tr>\n",
       "      <th>4</th>\n",
       "      <td>935966324727123968</td>\n",
       "      <td>1</td>\n",
       "      <td>1</td>\n",
       "      <td>Sverige var først med smøretrailer, Norge et å...</td>\n",
       "      <td>2017-12-02 03:00:00</td>\n",
       "      <td>/AageSki/status/935966324727123968</td>\n",
       "      <td>AageSki</td>\n",
       "    </tr>\n",
       "  </tbody>\n",
       "</table>\n",
       "</div>"
      ],
      "text/plain": [
       "                   id likes retweets  \\\n",
       "0  934132931274133505     6        0   \n",
       "1  934169505781178368     2        0   \n",
       "2  935438113450745856     7        3   \n",
       "3  935825736228835328     2        0   \n",
       "4  935966324727123968     1        1   \n",
       "\n",
       "                                                text           timestamp  \\\n",
       "0           Same procedure as always @Miniskinstaden 2017-11-26 10:00:00   \n",
       "1  3 runder Jørn. Landslagssjefen i kombinert, Iv... 2017-11-24 21:00:00   \n",
       "2  Verden trenger hver eneste dråpe olje som Norg... 2017-11-28 09:00:00   \n",
       "3         Er det Bob eller Bill Impola som er best ? 2017-11-30 03:00:00   \n",
       "4  Sverige var først med smøretrailer, Norge et å... 2017-12-02 03:00:00   \n",
       "\n",
       "                                  url     user  \n",
       "0  /AageSki/status/934132931274133505  AageSki  \n",
       "1  /AageSki/status/934169505781178368  AageSki  \n",
       "2  /AageSki/status/935438113450745856  AageSki  \n",
       "3  /AageSki/status/935825736228835328  AageSki  \n",
       "4  /AageSki/status/935966324727123968  AageSki  "
      ]
     },
     "execution_count": 3,
     "metadata": {},
     "output_type": "execute_result"
    }
   ],
   "source": [
    "raw = pd.DataFrame(L)\n",
    "raw.timestamp = pd.to_datetime(raw.timestamp)\n",
    "print(raw.shape)\n",
    "raw.head()"
   ]
  },
  {
   "cell_type": "code",
   "execution_count": 4,
   "metadata": {},
   "outputs": [
    {
     "name": "stdout",
     "output_type": "stream",
     "text": [
      "NRKTrafikk         139633\n",
      "nrc                135554\n",
      "libe               125083\n",
      "WasimZahid          73251\n",
      "jonwesselaas        63453\n",
      "Aftenposten         61409\n",
      "skolemorten         55640\n",
      "larssivertsen       52074\n",
      "lenealexandra       50465\n",
      "KSteigen            50143\n",
      "Asbjorn1975         48255\n",
      "mariesimonsen       47721\n",
      "Inger               46960\n",
      "Nettavisen          46063\n",
      "oslopolitiops       45360\n",
      "Ruter               43697\n",
      "vgnett              43353\n",
      "Tjaernas            41346\n",
      "thomasmoen          38859\n",
      "TV2Paasche          38020\n",
      "SAS                 37540\n",
      "Orjas62             36762\n",
      "vgsporten           35520\n",
      "martingruner        34433\n",
      "stmarthinsen        32415\n",
      "hpnhansen           30903\n",
      "NRKTrafikkOslo      30188\n",
      "Regjeringen         29265\n",
      "PerVassbotn         27844\n",
      "KrohnTraaseth       27541\n",
      "                    ...  \n",
      "fridanils1              1\n",
      "funder                  1\n",
      "adBrekke                1\n",
      "JonathanHaynes          1\n",
      "ruthe_art               1\n",
      "Combat_Jack             1\n",
      "kainazamaria            1\n",
      "CCHR                    1\n",
      "yvonnesg                1\n",
      "christophermoen         1\n",
      "PetterTenstad           1\n",
      "Lovespeake              1\n",
      "magnofob                1\n",
      "Tripbod                 1\n",
      "IrgensFaen              1\n",
      "Franny_Zoe              1\n",
      "KetilLundgaard          1\n",
      "Quibb                   1\n",
      "AmbassadorTom           1\n",
      "Jelriknylundvb          1\n",
      "sparker                 1\n",
      "HRSSorNorge             1\n",
      "magnussleporeX          1\n",
      "engebisi                1\n",
      "StaleNilsen             1\n",
      "riotroom                1\n",
      "espenjevn               1\n",
      "jhskaug                 1\n",
      "chkvi                   1\n",
      "helmik                  1\n",
      "Name: user, Length: 708, dtype: int64\n"
     ]
    }
   ],
   "source": [
    "counts = raw.user.value_counts()\n",
    "print(counts)\n",
    "counts = counts[counts > 50]\n",
    "keep_users = counts.index"
   ]
  },
  {
   "cell_type": "code",
   "execution_count": 5,
   "metadata": {},
   "outputs": [],
   "source": [
    "import re\n",
    "def tokenizeString(s):\n",
    "    s = s.lower().strip()\n",
    "    s = re.sub(u\"([.!?])\", r\" \\1\", s)\n",
    "    s = re.sub(u\"[^a-zA-Z.!#@?\\xf8\\xe6\\xe5]+\", u\" \", s)\n",
    "    s = s.split(\" \")\n",
    "    return s"
   ]
  },
  {
   "cell_type": "code",
   "execution_count": null,
   "metadata": {},
   "outputs": [
    {
     "data": {
      "text/plain": [
       "user\n",
       "ABpolitiops        Axes(0.125,0.125;0.775x0.755)\n",
       "AHuitfeldt         Axes(0.125,0.125;0.775x0.755)\n",
       "AWieseLitthuset    Axes(0.125,0.125;0.775x0.755)\n",
       "Aftenposten        Axes(0.125,0.125;0.775x0.755)\n",
       "Alarmbrann         Axes(0.125,0.125;0.775x0.755)\n",
       "Amagasinet         Axes(0.125,0.125;0.775x0.755)\n",
       "AmalieLereng       Axes(0.125,0.125;0.775x0.755)\n",
       "Amish82            Axes(0.125,0.125;0.775x0.755)\n",
       "AndebypolitiOPS    Axes(0.125,0.125;0.775x0.755)\n",
       "AndersTvegard      Axes(0.125,0.125;0.775x0.755)\n",
       "Andershoglund      Axes(0.125,0.125;0.775x0.755)\n",
       "Arbeiderpartiet    Axes(0.125,0.125;0.775x0.755)\n",
       "ArneBru            Axes(0.125,0.125;0.775x0.755)\n",
       "Asbjorn1975        Axes(0.125,0.125;0.775x0.755)\n",
       "AsbjornBrekke      Axes(0.125,0.125;0.775x0.755)\n",
       "AylarLie           Axes(0.125,0.125;0.775x0.755)\n",
       "BAdesKen           Axes(0.125,0.125;0.775x0.755)\n",
       "BaneNORSF          Axes(0.125,0.125;0.775x0.755)\n",
       "BareEgilBand       Axes(0.125,0.125;0.775x0.755)\n",
       "Barneombudet       Axes(0.125,0.125;0.775x0.755)\n",
       "Bekkemellem        Axes(0.125,0.125;0.775x0.755)\n",
       "Bergestuen         Axes(0.125,0.125;0.775x0.755)\n",
       "Bernhoft           Axes(0.125,0.125;0.775x0.755)\n",
       "Birger             Axes(0.125,0.125;0.775x0.755)\n",
       "BjarteTjostheim    Axes(0.125,0.125;0.775x0.755)\n",
       "BjornKHaugland     Axes(0.125,0.125;0.775x0.755)\n",
       "BjornSabo          Axes(0.125,0.125;0.775x0.755)\n",
       "BlaaOslo           Axes(0.125,0.125;0.775x0.755)\n",
       "BoringKalle        Axes(0.125,0.125;0.775x0.755)\n",
       "Buddhaskropp       Axes(0.125,0.125;0.775x0.755)\n",
       "                               ...              \n",
       "tgodag             Axes(0.125,0.125;0.775x0.755)\n",
       "thomasdybdahl      Axes(0.125,0.125;0.775x0.755)\n",
       "thomasmoen         Axes(0.125,0.125;0.775x0.755)\n",
       "thomasottesen      Axes(0.125,0.125;0.775x0.755)\n",
       "thorbjarnebore     Axes(0.125,0.125;0.775x0.755)\n",
       "tomegeland         Axes(0.125,0.125;0.775x0.755)\n",
       "tonedamli          Axes(0.125,0.125;0.775x0.755)\n",
       "tordlien           Axes(0.125,0.125;0.775x0.755)\n",
       "torryp             Axes(0.125,0.125;0.775x0.755)\n",
       "trinegrung         Axes(0.125,0.125;0.775x0.755)\n",
       "trulssv            Axes(0.125,0.125;0.775x0.755)\n",
       "turistforening     Axes(0.125,0.125;0.775x0.755)\n",
       "tv2fin             Axes(0.125,0.125;0.775x0.755)\n",
       "tveitdal           Axes(0.125,0.125;0.775x0.755)\n",
       "twitregon          Axes(0.125,0.125;0.775x0.755)\n",
       "ungevenstre        Axes(0.125,0.125;0.775x0.755)\n",
       "utdanningsf        Axes(0.125,0.125;0.775x0.755)\n",
       "vadseth            Axes(0.125,0.125;0.775x0.755)\n",
       "vampus             Axes(0.125,0.125;0.775x0.755)\n",
       "vathne             Axes(0.125,0.125;0.775x0.755)\n",
       "vegardino          Axes(0.125,0.125;0.775x0.755)\n",
       "vgnett             Axes(0.125,0.125;0.775x0.755)\n",
       "vgsporten          Axes(0.125,0.125;0.775x0.755)\n",
       "visitnorway        Axes(0.125,0.125;0.775x0.755)\n",
       "winsents           Axes(0.125,0.125;0.775x0.755)\n",
       "young              Axes(0.125,0.125;0.775x0.755)\n",
       "yrnyheter          Axes(0.125,0.125;0.775x0.755)\n",
       "yusufkadra         Axes(0.125,0.125;0.775x0.755)\n",
       "zeronorge          Axes(0.125,0.125;0.775x0.755)\n",
       "zuccarello36       Axes(0.125,0.125;0.775x0.755)\n",
       "Name: timestamp, Length: 616, dtype: object"
      ]
     },
     "execution_count": 6,
     "metadata": {},
     "output_type": "execute_result"
    },
    {
     "data": {
      "image/png": "[encoded data removed]",
      "text/plain": [
       "<matplotlib.figure.Figure at 0x2458256d8>"
      ]
     },
     "metadata": {},
     "output_type": "display_data"
    }
   ],
   "source": [
    "raw = (\n",
    "    raw #[(raw.timestamp > '2015-01-01') & (raw.timestamp < '2017-01-01')]\\\n",
    "    [raw.user.isin(keep_users)]\n",
    "    .sample(frac=1) # shuffle dataset\n",
    "    .reset_index(drop=True)\n",
    "      )\n",
    "    \n",
    "raw.groupby(\"user\")['timestamp'].hist(alpha = 0.5)"
   ]
  },
  {
   "cell_type": "markdown",
   "metadata": {},
   "source": [
    "## Build vocabulary"
   ]
  },
  {
   "cell_type": "code",
   "execution_count": null,
   "metadata": {},
   "outputs": [],
   "source": [
    "def build_vocabulary(text, min_count = 5):\n",
    "    normalized = text.map(tokenizeString)\n",
    "    all_words = np.array([item for sublist in normalized.values.tolist() for item in sublist])\n",
    "    words, counts = np.unique(all_words, return_counts=True)\n",
    "    keep_words = words[counts > min_count]\n",
    "    ind2word = {i + 2 : w for i, w in enumerate(keep_words)}\n",
    "    ind2word[1] = \"UNK\"\n",
    "    ind2word[0] = \"EMPTY\"\n",
    "    word2ind = {w : i for i, w in ind2word.items()}\n",
    "    \n",
    "    return word2ind, ind2word\n",
    "\n",
    "word2ind, ind2word = build_vocabulary(raw.text)"
   ]
  },
  {
   "cell_type": "markdown",
   "metadata": {},
   "source": [
    "## Preprocess text"
   ]
  },
  {
   "cell_type": "code",
   "execution_count": null,
   "metadata": {},
   "outputs": [],
   "source": [
    "# Prepare sequences:\n",
    "from keras.preprocessing.sequence import pad_sequences\n",
    "vectorize_tweet = lambda x: [word2ind.get(w,1) for w in x]\n",
    "PAD_LENGTH = 40\n",
    "def encode_text(s, padlen = PAD_LENGTH):\n",
    "    tokenized = tokenizeString(s)\n",
    "    vectorized = vectorize_tweet(tokenized)\n",
    "    padded = pad_sequences([vectorized], maxlen = padlen, padding = \"post\", truncating= \"post\")\n",
    "    return padded\n",
    "\n",
    "def decode_tweet(vec):\n",
    "    dec = [ind2word.get(ind) for ind in vec if ind != 0]\n",
    "    \n",
    "    return \" \".join(dec)"
   ]
  },
  {
   "cell_type": "code",
   "execution_count": null,
   "metadata": {},
   "outputs": [],
   "source": [
    "X = np.squeeze(np.array(raw.text.map(encode_text).values.tolist()))#.shape"
   ]
  },
  {
   "cell_type": "code",
   "execution_count": null,
   "metadata": {},
   "outputs": [],
   "source": [
    "X.shape"
   ]
  },
  {
   "cell_type": "code",
   "execution_count": null,
   "metadata": {},
   "outputs": [],
   "source": [
    "decode_tweet(encode_text(\"nå er det barneskirenn\").flatten())"
   ]
  },
  {
   "cell_type": "code",
   "execution_count": null,
   "metadata": {},
   "outputs": [],
   "source": [
    "# Check length of tweets:\n",
    "#raw.text_index.map(len).hist()"
   ]
  },
  {
   "cell_type": "code",
   "execution_count": null,
   "metadata": {},
   "outputs": [],
   "source": [
    "from sklearn import preprocessing\n",
    "def build_classes(labels):\n",
    "    le = preprocessing.LabelEncoder()\n",
    "    le.fit(labels)\n",
    "    label_index = le.transform(labels)\n",
    "    ind2class = {i : user for i, user in  enumerate(le.classes_)}\n",
    "    return label_index, ind2class"
   ]
  },
  {
   "cell_type": "code",
   "execution_count": null,
   "metadata": {},
   "outputs": [],
   "source": [
    "raw['user_class'], ind2class = build_classes(raw['user'])"
   ]
  },
  {
   "cell_type": "code",
   "execution_count": null,
   "metadata": {},
   "outputs": [],
   "source": [
    "N_classes = len(ind2class)\n",
    "N_classes"
   ]
  },
  {
   "cell_type": "code",
   "execution_count": null,
   "metadata": {},
   "outputs": [],
   "source": [
    "y = raw.user_class.values"
   ]
  },
  {
   "cell_type": "code",
   "execution_count": null,
   "metadata": {},
   "outputs": [],
   "source": [
    "np.random.seed(42)\n",
    "all_in_both_groups = False\n",
    "while not all_in_both_groups:\n",
    "    train_ind = np.random.rand(X.shape[0]) < 0.8\n",
    "    X_train = X[train_ind,]\n",
    "    X_test = X[~train_ind,]\n",
    "    y_train = y[train_ind]\n",
    "    y_test = y[~train_ind]\n",
    "    all_in_both_groups = len(np.unique(y_train)) ==  len(np.unique(y_test)) == N_classes\n",
    "    print(\"train: %d, test : %d\" % (len(np.unique(y_train)), len(np.unique(y_test))))"
   ]
  },
  {
   "cell_type": "code",
   "execution_count": null,
   "metadata": {},
   "outputs": [],
   "source": [
    "vocab = len(ind2word)\n",
    "vocab"
   ]
  },
  {
   "cell_type": "markdown",
   "metadata": {},
   "source": [
    "## Build model"
   ]
  },
  {
   "cell_type": "code",
   "execution_count": null,
   "metadata": {},
   "outputs": [],
   "source": [
    "import keras\n",
    "from keras.layers import *\n",
    "from keras.models import Model"
   ]
  },
  {
   "cell_type": "code",
   "execution_count": null,
   "metadata": {},
   "outputs": [],
   "source": [
    "tweet_input = Input((PAD_LENGTH,))\n",
    "emb = Embedding(vocab, 20)"
   ]
  },
  {
   "cell_type": "code",
   "execution_count": null,
   "metadata": {},
   "outputs": [],
   "source": [
    "word_vectors = emb(tweet_input)\n",
    "word_vectors = Dropout(0.2)(word_vectors)"
   ]
  },
  {
   "cell_type": "code",
   "execution_count": null,
   "metadata": {},
   "outputs": [],
   "source": [
    "avg_word_vectors = Lambda(lambda x: K.mean(x, 1))(word_vectors)\n",
    "x = avg_word_vectors\n",
    "x = Dropout(0.2)(x)\n",
    "x = Dense(100)(x)\n",
    "x = Dropout(0.2)(x)\n",
    "x = Dense(100)(x)\n",
    "x = Dropout(0.2)(x)\n",
    "x = Dense(N_classes, activation = \"softmax\")(x)\n",
    "\n",
    "\n",
    "model = Model(inputs = tweet_input, outputs = x)\n",
    "model.compile(loss=\"sparse_categorical_crossentropy\", \n",
    "              optimizer = keras.optimizers.Adam(lr = 0.005), \n",
    "              metrics=[\"accuracy\"])"
   ]
  },
  {
   "cell_type": "code",
   "execution_count": null,
   "metadata": {},
   "outputs": [],
   "source": [
    "\"\"\"\n",
    "# LSTM MODEL\n",
    "x = LSTM(10)(word_vectors)\n",
    "x = Dense(3,activation = \"softmax\")(x)\n",
    "model = Model(inputs = tweet_input, outputs = x)\n",
    "model.compile(loss=\"sparse_categorical_crossentropy\", \n",
    "              optimizer = keras.optimizers.Adam(lr = 0.001), \n",
    "              metrics=[\"accuracy\"])\n",
    "\"\"\""
   ]
  },
  {
   "cell_type": "code",
   "execution_count": null,
   "metadata": {},
   "outputs": [],
   "source": [
    "cl, count = np.unique(y_train, return_counts=True)\n",
    "class_weight = {c : 1.0/np.sqrt(n) for c, n in zip(cl,count)}\n",
    "tot = sum(class_weight.values())\n",
    "class_weight = {i : w/tot for i, w in class_weight.items()}"
   ]
  },
  {
   "cell_type": "code",
   "execution_count": null,
   "metadata": {},
   "outputs": [],
   "source": [
    "model.fit(X_train,y_train, \n",
    "          verbose = 2,\n",
    "          validation_data = (X_test, y_test),\n",
    "         epochs = 15, class_weight=class_weight)"
   ]
  },
  {
   "cell_type": "code",
   "execution_count": null,
   "metadata": {},
   "outputs": [],
   "source": [
    "model.compile(loss=\"sparse_categorical_crossentropy\", \n",
    "              optimizer = keras.optimizers.Adam(lr = 0.0001), \n",
    "              metrics=[\"accuracy\"])\n",
    "model.fit(X_train,y_train, \n",
    "          verbose = 2,\n",
    "          validation_data = (X_test, y_test),\n",
    "         epochs = 15, class_weight=class_weight)"
   ]
  },
  {
   "cell_type": "code",
   "execution_count": null,
   "metadata": {},
   "outputs": [],
   "source": [
    "model.compile(loss=\"sparse_categorical_crossentropy\", \n",
    "              optimizer = keras.optimizers.Adam(lr = 0.0001), \n",
    "              metrics=[\"accuracy\"])\n",
    "model.fit(X_train,y_train, \n",
    "          verbose = 2,\n",
    "          validation_data = (X_test, y_test),\n",
    "         epochs = 15, class_weight=class_weight)"
   ]
  },
  {
   "cell_type": "code",
   "execution_count": null,
   "metadata": {},
   "outputs": [],
   "source": [
    "yhat_probs = model.predict(X_test)\n",
    "yhat = yhat_probs.argmax(axis=1)"
   ]
  },
  {
   "cell_type": "code",
   "execution_count": null,
   "metadata": {},
   "outputs": [],
   "source": [
    "from sklearn.metrics import confusion_matrix"
   ]
  },
  {
   "cell_type": "code",
   "execution_count": null,
   "metadata": {},
   "outputs": [],
   "source": [
    "confusion = confusion_matrix(y_test,yhat)\n",
    "#confusion"
   ]
  },
  {
   "cell_type": "code",
   "execution_count": null,
   "metadata": {},
   "outputs": [],
   "source": [
    "rel_confusion = np.round(confusion / confusion.sum(axis=1, keepdims = True),2)\n",
    "rel_confusion = pd.DataFrame(rel_confusion, columns = ind2class.values(), index= ind2class.values())\n",
    "rel_confusion.index.name = \"true\"\n",
    "rel_confusion.columns.name = \"predicted\"\n",
    "rel_confusion"
   ]
  },
  {
   "cell_type": "code",
   "execution_count": null,
   "metadata": {},
   "outputs": [],
   "source": [
    "import seaborn as sns\n",
    "sns.heatmap(rel_confusion)"
   ]
  },
  {
   "cell_type": "code",
   "execution_count": null,
   "metadata": {},
   "outputs": [],
   "source": [
    "def find_user(tweet, top = 3):\n",
    "    v = encode_text(tweet)\n",
    "    pred = model.predict(v)[0]\n",
    "    top_ind = np.argsort(pred)[::-1][:top]\n",
    "    return \", \".join([\"%s : %.2f\" % (ind2class[ind], pred[ind])  for ind in top_ind])"
   ]
  },
  {
   "cell_type": "code",
   "execution_count": null,
   "metadata": {},
   "outputs": [],
   "source": [
    "find_user(\"de single har det for dårlig i Norge\")"
   ]
  },
  {
   "cell_type": "code",
   "execution_count": null,
   "metadata": {},
   "outputs": [],
   "source": [
    "find_user(\"det er viktig at noen passer på de som blir tatt av diplomatiet\")"
   ]
  },
  {
   "cell_type": "code",
   "execution_count": null,
   "metadata": {},
   "outputs": [],
   "source": [
    "find_user(\"Jul er tiden for familien\")"
   ]
  },
  {
   "cell_type": "code",
   "execution_count": null,
   "metadata": {},
   "outputs": [],
   "source": [
    "find_user(\"hva er meningen med livet?\")"
   ]
  },
  {
   "cell_type": "code",
   "execution_count": null,
   "metadata": {},
   "outputs": [],
   "source": [
    "find_user(\"julenissen er pågrepet på nordpolen\")"
   ]
  },
  {
   "cell_type": "code",
   "execution_count": null,
   "metadata": {},
   "outputs": [],
   "source": [
    "find_user(\"#sport er meningen med livet\")"
   ]
  },
  {
   "cell_type": "code",
   "execution_count": null,
   "metadata": {},
   "outputs": [],
   "source": [
    "find_user(\"lærere er meningen med livet\")"
   ]
  },
  {
   "cell_type": "code",
   "execution_count": null,
   "metadata": {},
   "outputs": [],
   "source": [
    "find_user(\"forsvar er meningen med livet\")"
   ]
  },
  {
   "cell_type": "code",
   "execution_count": null,
   "metadata": {},
   "outputs": [],
   "source": [
    "find_user(\"liberalisme må vike for sosialisme\")"
   ]
  },
  {
   "cell_type": "code",
   "execution_count": null,
   "metadata": {},
   "outputs": [],
   "source": [
    "find_user(\"arbeidere i alle land, foren dere\")"
   ]
  },
  {
   "cell_type": "code",
   "execution_count": null,
   "metadata": {},
   "outputs": [],
   "source": []
  }
 ],
 "metadata": {
  "kernelspec": {
   "display_name": "Python 3",
   "language": "python",
   "name": "python3"
  },
  "language_info": {
   "codemirror_mode": {
    "name": "ipython",
    "version": 3
   },
   "file_extension": ".py",
   "mimetype": "text/x-python",
   "name": "python",
   "nbconvert_exporter": "python",
   "pygments_lexer": "ipython3",
   "version": "3.4.3"
  }
 },
 "nbformat": 4,
 "nbformat_minor": 2
}
