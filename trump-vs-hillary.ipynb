{
 "cells": [
  {
   "cell_type": "code",
   "execution_count": 1,
   "metadata": {},
   "outputs": [],
   "source": [
    "import datetime\n",
    "import jsonlines\n",
    "import os\n",
    "import pandas as pd\n",
    "import numpy as np\n",
    "%matplotlib inline"
   ]
  },
  {
   "cell_type": "markdown",
   "metadata": {},
   "source": [
    "## Build dataset"
   ]
  },
  {
   "cell_type": "code",
   "execution_count": 2,
   "metadata": {},
   "outputs": [],
   "source": [
    "# Load user tweets\n",
    "files = ['data/' + f for f in os.listdir(\"data\")]\n",
    "L = []\n",
    "for path in files:\n",
    "    with jsonlines.open(path, mode='r') as reader:\n",
    "        tmp = [line for line in reader.iter()]\n",
    "        L.extend(tmp)"
   ]
  },
  {
   "cell_type": "code",
   "execution_count": 4,
   "metadata": {},
   "outputs": [
    {
     "data": {
      "text/html": [
       "<div>\n",
       "<style>\n",
       "    .dataframe thead tr:only-child th {\n",
       "        text-align: right;\n",
       "    }\n",
       "\n",
       "    .dataframe thead th {\n",
       "        text-align: left;\n",
       "    }\n",
       "\n",
       "    .dataframe tbody tr th {\n",
       "        vertical-align: top;\n",
       "    }\n",
       "</style>\n",
       "<table border=\"1\" class=\"dataframe\">\n",
       "  <thead>\n",
       "    <tr style=\"text-align: right;\">\n",
       "      <th></th>\n",
       "      <th>id</th>\n",
       "      <th>likes</th>\n",
       "      <th>retweets</th>\n",
       "      <th>text</th>\n",
       "      <th>timestamp</th>\n",
       "      <th>url</th>\n",
       "      <th>user</th>\n",
       "    </tr>\n",
       "  </thead>\n",
       "  <tbody>\n",
       "    <tr>\n",
       "      <th>0</th>\n",
       "      <td>44240662</td>\n",
       "      <td>444</td>\n",
       "      <td>779</td>\n",
       "      <td>Thinking we're only one signature away from en...</td>\n",
       "      <td>2007-04-30 08:00:00</td>\n",
       "      <td>/BarackObama/status/44240662</td>\n",
       "      <td>BarackObama</td>\n",
       "    </tr>\n",
       "    <tr>\n",
       "      <th>1</th>\n",
       "      <td>46195712</td>\n",
       "      <td>230</td>\n",
       "      <td>254</td>\n",
       "      <td>Wondering why, four years after President Bush...</td>\n",
       "      <td>2007-05-02 15:00:00</td>\n",
       "      <td>/BarackObama/status/46195712</td>\n",
       "      <td>BarackObama</td>\n",
       "    </tr>\n",
       "    <tr>\n",
       "      <th>2</th>\n",
       "      <td>53427172</td>\n",
       "      <td>4</td>\n",
       "      <td>6</td>\n",
       "      <td>At the Detroit Economic Club – Talking about t...</td>\n",
       "      <td>2007-05-08 19:00:00</td>\n",
       "      <td>/BarackObama/status/53427172</td>\n",
       "      <td>BarackObama</td>\n",
       "    </tr>\n",
       "    <tr>\n",
       "      <th>3</th>\n",
       "      <td>55928192</td>\n",
       "      <td>8</td>\n",
       "      <td>4</td>\n",
       "      <td>Thinking we can cut oil consumption by 2.5 mil...</td>\n",
       "      <td>2007-05-10 05:00:00</td>\n",
       "      <td>/BarackObama/status/55928192</td>\n",
       "      <td>BarackObama</td>\n",
       "    </tr>\n",
       "    <tr>\n",
       "      <th>4</th>\n",
       "      <td>59358952</td>\n",
       "      <td>14</td>\n",
       "      <td>14</td>\n",
       "      <td>In Indianola, Iowa and heading to Des Moines</td>\n",
       "      <td>2007-05-11 19:00:00</td>\n",
       "      <td>/BarackObama/status/59358952</td>\n",
       "      <td>BarackObama</td>\n",
       "    </tr>\n",
       "  </tbody>\n",
       "</table>\n",
       "</div>"
      ],
      "text/plain": [
       "         id likes retweets                                               text  \\\n",
       "0  44240662   444      779  Thinking we're only one signature away from en...   \n",
       "1  46195712   230      254  Wondering why, four years after President Bush...   \n",
       "2  53427172     4        6  At the Detroit Economic Club – Talking about t...   \n",
       "3  55928192     8        4  Thinking we can cut oil consumption by 2.5 mil...   \n",
       "4  59358952    14       14       In Indianola, Iowa and heading to Des Moines   \n",
       "\n",
       "            timestamp                           url         user  \n",
       "0 2007-04-30 08:00:00  /BarackObama/status/44240662  BarackObama  \n",
       "1 2007-05-02 15:00:00  /BarackObama/status/46195712  BarackObama  \n",
       "2 2007-05-08 19:00:00  /BarackObama/status/53427172  BarackObama  \n",
       "3 2007-05-10 05:00:00  /BarackObama/status/55928192  BarackObama  \n",
       "4 2007-05-11 19:00:00  /BarackObama/status/59358952  BarackObama  "
      ]
     },
     "execution_count": 4,
     "metadata": {},
     "output_type": "execute_result"
    }
   ],
   "source": [
    "raw = pd.DataFrame(L)\n",
    "raw.timestamp = pd.to_datetime(raw.timestamp)\n",
    "raw.head()"
   ]
  },
  {
   "cell_type": "code",
   "execution_count": 5,
   "metadata": {},
   "outputs": [
    {
     "data": {
      "text/plain": [
       "realDonaldTrump    33376\n",
       "BarackObama        13417\n",
       "HillaryClinton      7790\n",
       "Name: user, dtype: int64"
      ]
     },
     "execution_count": 5,
     "metadata": {},
     "output_type": "execute_result"
    }
   ],
   "source": [
    "raw.user.value_counts()"
   ]
  },
  {
   "cell_type": "code",
   "execution_count": 6,
   "metadata": {},
   "outputs": [],
   "source": [
    "import re\n",
    "def normalizeString(s):\n",
    "    s = s.lower().strip()\n",
    "    s = re.sub(u\"([.!?])\", r\" \\1\", s)\n",
    "    s = re.sub(u\"[^a-zA-Z.!#@?\\xf8\\xe6\\xe5]+\", u\" \", s)\n",
    "    s = s.split(\" \")\n",
    "    return s"
   ]
  },
  {
   "cell_type": "code",
   "execution_count": 7,
   "metadata": {},
   "outputs": [
    {
     "data": {
      "text/plain": [
       "user\n",
       "BarackObama        Axes(0.125,0.125;0.775x0.755)\n",
       "HillaryClinton     Axes(0.125,0.125;0.775x0.755)\n",
       "realDonaldTrump    Axes(0.125,0.125;0.775x0.755)\n",
       "Name: timestamp, dtype: object"
      ]
     },
     "execution_count": 7,
     "metadata": {},
     "output_type": "execute_result"
    },
    {
     "data": {
      "image/png": "[encoded data removed]",
      "text/plain": [
       "<matplotlib.figure.Figure at 0x10e2c4940>"
      ]
     },
     "metadata": {},
     "output_type": "display_data"
    }
   ],
   "source": [
    "raw.groupby(\"user\")['timestamp'].hist(alpha = 0.5)"
   ]
  },
  {
   "cell_type": "code",
   "execution_count": 8,
   "metadata": {},
   "outputs": [
    {
     "data": {
      "text/plain": [
       "user\n",
       "BarackObama        Axes(0.125,0.125;0.775x0.755)\n",
       "HillaryClinton     Axes(0.125,0.125;0.775x0.755)\n",
       "realDonaldTrump    Axes(0.125,0.125;0.775x0.755)\n",
       "Name: timestamp, dtype: object"
      ]
     },
     "execution_count": 8,
     "metadata": {},
     "output_type": "execute_result"
    },
    {
     "data": {
      "image/png": "[encoded data removed]",
      "text/plain": [
       "<matplotlib.figure.Figure at 0x10e9989e8>"
      ]
     },
     "metadata": {},
     "output_type": "display_data"
    }
   ],
   "source": [
    "raw = raw[(raw.timestamp > '2015-01-01') & (raw.timestamp < '2017-01-01')]\\\n",
    "    .sample(frac=1)\\\n",
    "    .reset_index(drop=True)\n",
    "    \n",
    "raw.groupby(\"user\")['timestamp'].hist(alpha = 0.5)"
   ]
  },
  {
   "cell_type": "code",
   "execution_count": 9,
   "metadata": {},
   "outputs": [],
   "source": [
    "raw['normalized'] = raw.text.map(normalizeString)\n",
    "all_words = np.array([item for sublist in raw['normalized'].values.tolist() for item in sublist])"
   ]
  },
  {
   "cell_type": "code",
   "execution_count": 10,
   "metadata": {},
   "outputs": [],
   "source": [
    "words, counts = np.unique(all_words, return_counts=True)\n",
    "keep_words = words[counts > 5]"
   ]
  },
  {
   "cell_type": "code",
   "execution_count": 49,
   "metadata": {},
   "outputs": [],
   "source": [
    "ind2word = {i + 2 : w for i, w in enumerate(keep_words)}\n",
    "ind2word[1] = \"UNK\"\n",
    "ind2word[0] = \"EMPTY\"\n",
    "word2ind = {w : i for i, w in ind2word.items()}"
   ]
  },
  {
   "cell_type": "code",
   "execution_count": 73,
   "metadata": {},
   "outputs": [],
   "source": [
    "# Prepare sequences:\n",
    "\n",
    "vectorize_tweet = lambda x: [word2ind.get(w,1) for w in x]"
   ]
  },
  {
   "cell_type": "code",
   "execution_count": 74,
   "metadata": {},
   "outputs": [],
   "source": [
    "raw['text_index'] = raw.normalized.map(vectorize_tweet)"
   ]
  },
  {
   "cell_type": "code",
   "execution_count": 75,
   "metadata": {},
   "outputs": [
    {
     "data": {
      "text/plain": [
       "<matplotlib.axes._subplots.AxesSubplot at 0x12a2c4438>"
      ]
     },
     "execution_count": 75,
     "metadata": {},
     "output_type": "execute_result"
    },
    {
     "data": {
      "image/png": "[encoded data removed]",
      "text/plain": [
       "<matplotlib.figure.Figure at 0x1283bbf98>"
      ]
     },
     "metadata": {},
     "output_type": "display_data"
    }
   ],
   "source": [
    "# Check length of tweets:\n",
    "raw.text_index.map(len).hist()"
   ]
  },
  {
   "cell_type": "code",
   "execution_count": 76,
   "metadata": {},
   "outputs": [],
   "source": [
    "SEQ_LENGTH = 40\n",
    "\n",
    "from keras.preprocessing.sequence import pad_sequences\n",
    "X = pad_sequences(raw.text_index, maxlen = SEQ_LENGTH, padding = \"post\", truncating= \"post\")"
   ]
  },
  {
   "cell_type": "code",
   "execution_count": 77,
   "metadata": {},
   "outputs": [],
   "source": [
    "y = (raw.user == \"HillaryClinton\")*1 + (raw.user == \"BarackObama\")*2"
   ]
  },
  {
   "cell_type": "code",
   "execution_count": 78,
   "metadata": {},
   "outputs": [],
   "source": [
    "np.random.seed(42)\n",
    "train_ind = np.random.rand(X.shape[0]) < 0.8\n",
    "X_train = X[train_ind,]\n",
    "X_test = X[~train_ind,]\n",
    "y_train = y[train_ind]\n",
    "y_test = y[~train_ind]"
   ]
  },
  {
   "cell_type": "code",
   "execution_count": 79,
   "metadata": {},
   "outputs": [
    {
     "data": {
      "text/plain": [
       "(17087, 40)"
      ]
     },
     "execution_count": 79,
     "metadata": {},
     "output_type": "execute_result"
    }
   ],
   "source": [
    "X_train.shape"
   ]
  },
  {
   "cell_type": "code",
   "execution_count": 80,
   "metadata": {},
   "outputs": [],
   "source": [
    "vocab = len(ind2word)"
   ]
  },
  {
   "cell_type": "markdown",
   "metadata": {},
   "source": [
    "## Build model"
   ]
  },
  {
   "cell_type": "code",
   "execution_count": 81,
   "metadata": {},
   "outputs": [],
   "source": [
    "import keras\n",
    "from keras.layers import *\n",
    "from keras.models import Model"
   ]
  },
  {
   "cell_type": "code",
   "execution_count": 82,
   "metadata": {},
   "outputs": [],
   "source": [
    "tweet_input = Input((SEQ_LENGTH,))\n",
    "\n",
    "emb = Embedding(vocab, 10)"
   ]
  },
  {
   "cell_type": "code",
   "execution_count": 83,
   "metadata": {},
   "outputs": [],
   "source": [
    "word_vectors = emb(tweet_input)\n",
    "word_vectors = Dropout(0.5)(word_vectors)"
   ]
  },
  {
   "cell_type": "code",
   "execution_count": 84,
   "metadata": {},
   "outputs": [],
   "source": []
  },
  {
   "cell_type": "code",
   "execution_count": 85,
   "metadata": {},
   "outputs": [],
   "source": []
  },
  {
   "cell_type": "code",
   "execution_count": 86,
   "metadata": {},
   "outputs": [],
   "source": [
    "avg_word_vectors = Lambda(lambda x: K.mean(x, 1))(word_vectors)\n",
    "x = Dense(10)(avg_word_vectors)\n",
    "x = Dense(10)(x)\n",
    "x = Dropout(0.2)(x)\n",
    "x = Dense(3, activation = \"softmax\")(x)\n",
    "\n",
    "\n",
    "model = Model(inputs = tweet_input, outputs = x)\n",
    "model.compile(loss=\"sparse_categorical_crossentropy\", \n",
    "              optimizer = keras.optimizers.Adam(lr = 0.001), \n",
    "              metrics=[\"accuracy\"])"
   ]
  },
  {
   "cell_type": "code",
   "execution_count": 116,
   "metadata": {},
   "outputs": [],
   "source": [
    "\n",
    "# LSTM MODEL\n",
    "x = LSTM(10)(word_vectors)\n",
    "x = Dense(3,activation = \"softmax\")(x)\n",
    "model = Model(inputs = tweet_input, outputs = x)\n",
    "model.compile(loss=\"sparse_categorical_crossentropy\", \n",
    "              optimizer = keras.optimizers.Adam(lr = 0.001), \n",
    "              metrics=[\"accuracy\"])"
   ]
  },
  {
   "cell_type": "code",
   "execution_count": 117,
   "metadata": {},
   "outputs": [
    {
     "name": "stdout",
     "output_type": "stream",
     "text": [
      "Train on 17087 samples, validate on 4282 samples\n",
      "Epoch 1/5\n",
      "65s - loss: 0.4210 - acc: 0.8347 - val_loss: 0.3158 - val_acc: 0.8725\n",
      "Epoch 2/5\n",
      "66s - loss: 0.2085 - acc: 0.9204 - val_loss: 0.1366 - val_acc: 0.9610\n",
      "Epoch 3/5\n",
      "66s - loss: 0.0906 - acc: 0.9727 - val_loss: 0.1127 - val_acc: 0.9626\n",
      "Epoch 4/5\n",
      "64s - loss: 0.0693 - acc: 0.9783 - val_loss: 0.1216 - val_acc: 0.9615\n",
      "Epoch 5/5\n",
      "65s - loss: 0.0632 - acc: 0.9813 - val_loss: 0.1170 - val_acc: 0.9645\n"
     ]
    },
    {
     "data": {
      "text/plain": [
       "<keras.callbacks.History at 0x12d756080>"
      ]
     },
     "execution_count": 117,
     "metadata": {},
     "output_type": "execute_result"
    }
   ],
   "source": [
    "model.fit(X_train,y_train, \n",
    "          verbose = 2,\n",
    "          validation_data = (X_test, y_test),\n",
    "         epochs = 5)"
   ]
  },
  {
   "cell_type": "code",
   "execution_count": 118,
   "metadata": {},
   "outputs": [],
   "source": [
    "yhat_probs = model.predict(X_test)"
   ]
  },
  {
   "cell_type": "code",
   "execution_count": 119,
   "metadata": {},
   "outputs": [],
   "source": [
    "yhat = yhat_probs.argmax(axis=1)"
   ]
  },
  {
   "cell_type": "code",
   "execution_count": 120,
   "metadata": {},
   "outputs": [],
   "source": [
    "from sklearn.metrics import confusion_matrix"
   ]
  },
  {
   "cell_type": "code",
   "execution_count": 121,
   "metadata": {},
   "outputs": [],
   "source": [
    "def decode_tweet(vec):\n",
    "    dec = [ind2word.get(ind) for ind in vec if ind != 0]\n",
    "    \n",
    "    return \" \".join(dec)"
   ]
  },
  {
   "cell_type": "code",
   "execution_count": 122,
   "metadata": {},
   "outputs": [
    {
     "data": {
      "text/plain": [
       "' @anncoulter i think donaldtrump has struck a UNK ! macy s customers UNK in support of donald trump http bit .ly UNK '"
      ]
     },
     "execution_count": 122,
     "metadata": {},
     "output_type": "execute_result"
    }
   ],
   "source": [
    "decode_tweet(X_test[1,])"
   ]
  },
  {
   "cell_type": "code",
   "execution_count": 123,
   "metadata": {},
   "outputs": [
    {
     "data": {
      "text/plain": [
       "array([[2259,   58,    2],\n",
       "       [  63, 1468,    8],\n",
       "       [   0,   21,  403]])"
      ]
     },
     "execution_count": 123,
     "metadata": {},
     "output_type": "execute_result"
    }
   ],
   "source": [
    "confusion_matrix(y_test,yhat)"
   ]
  },
  {
   "cell_type": "code",
   "execution_count": 124,
   "metadata": {},
   "outputs": [
    {
     "name": "stdout",
     "output_type": "stream",
     "text": [
      "pic .twitter .com UNK UNK\n",
      " everything comes to him who UNK while he UNK . UNK UNK\n",
      " UNK UNK @foxandfriends mr . trump calls it like it is . hrc should be UNK UNK and put in federal prison . \n",
      "via UNK by UNK UNK donald trump talks gun control assault weapons gun free zones self defense http www UNK .com donald trump talks gun control assault weapons gun free zones #ixzz UNK \n",
      "mike pence won big . we should all be proud of mike !\n",
      " @ a e f e UNK ya es UNK y tenemos con que @realdonaldtrump pic .twitter .com UNK nd un \n",
      "off to nashville and the nra .\n",
      "six hours left to #votetrump connecticut !pic .twitter .com u UNK\n",
      "great night in wi . i m going to fight for every person in this country who believes government should serve the people not the donors !pic .twitter .com ac UNK UNK \n",
      "in business you make decisions that are in your best interests . time for the us gov t to do the same . let s make america great again !\n",
      "for those few people knocking me for tweeting at three o clock in the morning at least you know i will be there UNK to answer the call !\n",
      " donald trump s birther event is the greatest trick he s ever UNK http wapo .st UNK\n",
      "my childcare plan makes a difference for working families more money more freedom . #americafirst means UNK !pic .twitter .com mo i UNK\n",
      "it was an honor to be the grand UNK in the salute to israel parade back in .pic .twitter .com g g UNK dh\n",
      "just won a big federal lawsuit UNK in certain ways to the trump u case but the press refuses to write about it . if i lost monster story !\n",
      "#americafirst #rncinclehttps amp .twimg .com v b d a b ee de \n",
      "as a presidential candidate i have UNK my long time UNK to issue within two weeks a full medical report it will show UNK\n",
      "america is proud to stand UNK to UNK w a free UNK uk . we stand together as friends as allies as a people w a shared history .\n",
      " UNK who blew his campaign when he gave hillary a pass on her e mail crime said that i feel wages in america are too high . lie !\n",
      "i will be on the @colbertlateshow tonight at pic .twitter .com UNK UNK\n",
      "praying for the families of the two iowa police who were UNK this morning . an attack on those who keep us safe is an attack on us all .\n",
      "do you believe this iran wants to trade our prisoners not for prisoners held by the u .s . should have been let go with last deal !\n",
      "today we lost a great UNK of air and space in john UNK . he was a hero and inspired generations of future UNK . he will be missed .\n",
      "today i officially declared my candidacy for president of the united states . watch the video of my full speech https youtu .be q q b UNK\n",
      "behind the scenes video with UNK sam UNK s name and me .https amp .twimg .com v UNK ab e f fb b f d a fe \n",
      "thank you idaho ! i love your UNK nobody grows them better . as president i will protect your market .pic .twitter .com UNK un UNK\n",
      "pic .twitter .com t UNK f\n",
      " always be prepared to start . UNK\n",
      "fact on red line in syria hrc i wasn t there . fact line drawn in UNK . hrc UNK of state UNK feb .http UNK UNK UNK\n",
      " @nbcsnl UNK also has a trump impression . https youtu .be UNK #snl https amp .twimg .com v ce e ed d b aa a d a cb \n",
      "wages in are country are too low good jobs are too few and people have lost faith in our leaders .we need smart and strong leadership now !\n",
      " trump lays out policies for first days in white house http nypost .com trump lays out policies for first days of white house \n",
      " UNK i try to learn from the past but i plan for the future by focusing UNK on the UNK donald trump\n",
      "we agree @potus she ll hillary clinton say anything change nothing . it s time to turn the page president obama\n",
      "on immigration i m UNK with our immigration officers our wage UNK . hillary clinton is UNK with wall street .\n",
      "the pathetic new hit ad against me UNK the final line . you can tell them to go UNK themselves was about china not women !\n",
      " UNK UNK experience taught me a few things . sometimes your best investments are the ones you don t make . donald trump \n",
      " UNK UNK obama s average UNK is worse than his last UNK including carter ! https twitter .com UNK status \n",
      "if hillary thinks she can UNK her husband with his terrible record of women abuse while playing the women s card on me she s wrong !\n",
      "if obama worked as hard on UNK out our country as he has trying to protect and elect hillary we would all be much better off !\n",
      "frank was a great guy UNK to an absolutely wonderful woman UNK . what a couple !pic .twitter .com UNK uo \n",
      " UNK please make it known now that you are a serious candidate for president . we the american people need you to UNK usa\n",
      "how come there are no UNK in favor of the two young police officers gunned down in mississippi by two UNK UNK . death UNK !\n",
      " face reality as it is not as it was or as you wish it to be . @jack UNK\n",
      " UNK his wife UNK UNK the UNK here w governor UNK .pic .twitter .com UNK im UNK\n",
      " UNK i UNK won the UNK meeting yesterday . know many members who said not even close . only full standing o . but don t want s\n",
      "a lot of call UNK about vote UNK at the voting UNK in texas . people are not happy . big lines . what is going on ?\n",
      "our country needs a president with great leadership skills and vision not someone like hillary or barack neither of which has a clue !\n",
      "today is the rd anniversary of the march on washington today we honor the UNK fight for justice equality and opportunity .\n",
      "hillary clinton should have been UNK and should be in jail . instead she is running for president in what looks like a rigged election\n",
      " UNK UNK UNK en UNK con UNK great concert at @trumpdoral UNK pic .twitter .com s yh UNK \n",
      " @thebrodyfile on the muslim issue it might help @barackobama if he actually didn t come across as hostile to evangelicals in this country\n",
      " UNK .@realdonaldtrump we have a president who has no clue what he s doing . UNK pic .twitter .com s l UNK \n",
      " UNK vote trump for president americans last hope donald trump . . . let s take our country back . vote for the don \n",
      " UNK update and policy plans for the first days .pic .twitter .com UNK\n",
      "let us give thanks for all that we have and let us UNK face the exciting new UNK that lie ahead . happy thanksgiving .pic .twitter .com yh UNK ts\n",
      "thank you for your support at this UNK town hall in UNK new hampshire . #fitn UNK .twitter .com m UNK\n",
      " UNK UNK UNK business leaders such as donald could easily UNK students more in one hour than in any UNK . \n"
     ]
    }
   ],
   "source": [
    "thought_was_trump_but_was_hillary = X_test[(y_test.values == 0) & (yhat == 1),]\n",
    "\n",
    "for vec in thought_was_trump_but_was_hillary:\n",
    "    print(decode_tweet(vec))"
   ]
  },
  {
   "cell_type": "code",
   "execution_count": 97,
   "metadata": {},
   "outputs": [
    {
     "data": {
      "text/plain": [
       "array([0, 0, 1, ..., 0, 0, 0])"
      ]
     },
     "execution_count": 97,
     "metadata": {},
     "output_type": "execute_result"
    }
   ],
   "source": [
    "yhat"
   ]
  }
 ],
 "metadata": {
  "kernelspec": {
   "display_name": "Python 3",
   "language": "python",
   "name": "python3"
  },
  "language_info": {
   "codemirror_mode": {
    "name": "ipython",
    "version": 3
   },
   "file_extension": ".py",
   "mimetype": "text/x-python",
   "name": "python",
   "nbconvert_exporter": "python",
   "pygments_lexer": "ipython3",
   "version": "3.4.3"
  }
 },
 "nbformat": 4,
 "nbformat_minor": 2
}
