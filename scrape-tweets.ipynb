{
 "cells": [
  {
   "cell_type": "code",
   "execution_count": 1,
   "metadata": {},
   "outputs": [],
   "source": [
    "from twitterscraper import query_tweets\n",
    "import json\n",
    "import datetime\n",
    "import jsonlines"
   ]
  },
  {
   "cell_type": "code",
   "execution_count": 2,
   "metadata": {},
   "outputs": [],
   "source": [
    "def tweet2json(tweet):\n",
    "    return {'timestamp' : tweet.timestamp.strftime(\"%Y-%m-%d %H-%M-%S\"),\n",
    "    'text' : tweet.text,\n",
    "    'user' : tweet.user,\n",
    "    'retweets' : tweet.retweets,\n",
    "    'likes' : tweet.likes,\n",
    "    'url' : tweet.url,\n",
    "           'id' : tweet.id}\n",
    "\n",
    "def query_and_save(q):\n",
    "    tweets = query_tweets(q)\n",
    "    tmp_tweet = [tweet2json(tweet) for tweet in tweets]\n",
    "    with jsonlines.open( \"data/\" + q + '.jsonl', mode='w') as writer:\n",
    "        writer.write_all(tmp_tweet)"
   ]
  },
  {
   "cell_type": "code",
   "execution_count": 4,
   "metadata": {},
   "outputs": [
    {
     "name": "stdout",
     "output_type": "stream",
     "text": [
      "from:BarackObama\n",
      "CPU times: user 2min 13s, sys: 2.48 s, total: 2min 15s\n",
      "Wall time: 10min 29s\n"
     ]
    }
   ],
   "source": [
    "users = ['BarackObama']#,'realDonaldTrump','HillaryClinton']\n",
    "\n",
    "for user in users:\n",
    "    query = \"from:%s\" % user\n",
    "    print(query)\n",
    "    %time query_and_save(query)"
   ]
  },
  {
   "cell_type": "code",
   "execution_count": null,
   "metadata": {},
   "outputs": [],
   "source": []
  }
 ],
 "metadata": {
  "kernelspec": {
   "display_name": "Python 3",
   "language": "python",
   "name": "python3"
  },
  "language_info": {
   "codemirror_mode": {
    "name": "ipython",
    "version": 3
   },
   "file_extension": ".py",
   "mimetype": "text/x-python",
   "name": "python",
   "nbconvert_exporter": "python",
   "pygments_lexer": "ipython3",
   "version": "3.4.3"
  }
 },
 "nbformat": 4,
 "nbformat_minor": 2
}
