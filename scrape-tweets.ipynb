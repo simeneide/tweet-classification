{
 "cells": [
  {
   "cell_type": "code",
   "execution_count": 1,
   "metadata": {},
   "outputs": [],
   "source": [
    "from twitterscraper import query_tweets\n",
    "import json\n",
    "import datetime\n",
    "import jsonlines\n",
    "import re\n",
    "from joblib import Parallel, delayed\n",
    "import os"
   ]
  },
  {
   "cell_type": "code",
   "execution_count": 2,
   "metadata": {},
   "outputs": [],
   "source": [
    "f = open('unstructured_tweeters.txt','r') # http://tvitre.no/norsktoppen/followers\n",
    "all_lines = f.readlines()"
   ]
  },
  {
   "cell_type": "code",
   "execution_count": 3,
   "metadata": {},
   "outputs": [],
   "source": [
    "pattern = \"(?<=^|(?<=[^a-zA-Z0-9-_\\.]))@([A-Za-z]+[A-Za-z0-9]+)\"\n",
    "usernames = []\n",
    "for tweet in all_lines:\n",
    "    usernames.extend(re.findall(pattern, tweet))\n",
    "    \n",
    "usernames = list(set(usernames)) # Make unique"
   ]
  },
  {
   "cell_type": "markdown",
   "metadata": {},
   "source": [
    "## Save tweets from users"
   ]
  },
  {
   "cell_type": "code",
   "execution_count": 4,
   "metadata": {},
   "outputs": [],
   "source": [
    "def tweet2json(tweet):\n",
    "    return {'timestamp' : tweet.timestamp.strftime(\"%Y-%m-%d %H-%M-%S\"),\n",
    "    'text' : tweet.text,\n",
    "    'user' : tweet.user,\n",
    "    'retweets' : tweet.retweets,\n",
    "    'likes' : tweet.likes,\n",
    "    'url' : tweet.url,\n",
    "           'id' : tweet.id}\n",
    "\n",
    "def query_and_save(user, limit = None):\n",
    "    print(user)\n",
    "    tweets = query_tweets('from:' + user, limit= limit)\n",
    "    tmp_tweet = [tweet2json(tweet) for tweet in tweets]\n",
    "    with jsonlines.open( \"data/\" + user + '.jsonl', mode='w') as writer:\n",
    "        writer.write_all(tmp_tweet)\n",
    "    return True"
   ]
  },
  {
   "cell_type": "code",
   "execution_count": null,
   "metadata": {},
   "outputs": [],
   "source": [
    "# prepare queries:\n",
    "users = usernames#[:5]\n",
    "\n",
    "# already downloaded users:\n",
    "downloaded_users = [x.split(\".\")[0] for x in os.listdir(\"data\")]\n",
    "\n",
    "# Remove users that is already downloaded:\n",
    "run_users = [x for x in users if x not in downloaded_users]"
   ]
  },
  {
   "cell_type": "code",
   "execution_count": null,
   "metadata": {},
   "outputs": [
    {
     "name": "stdout",
     "output_type": "stream",
     "text": [
      "mav\n",
      "Regjeringen\n",
      "PSTnorge\n"
     ]
    },
    {
     "name": "stderr",
     "output_type": "stream",
     "text": [
      "[Parallel(n_jobs=2)]: Done   1 tasks      | elapsed:    1.6s\n"
     ]
    },
    {
     "name": "stdout",
     "output_type": "stream",
     "text": [
      "krfnorge\n",
      "aslaknore\n",
      "KrohnTraaseth\n"
     ]
    },
    {
     "name": "stderr",
     "output_type": "stream",
     "text": [
      "[Parallel(n_jobs=2)]: Done   4 tasks      | elapsed:  8.8min\n"
     ]
    },
    {
     "name": "stdout",
     "output_type": "stream",
     "text": [
      "Oslo110sentral\n",
      "fabianstang\n",
      "oslopolitiops\n",
      "PetterNorthug1\n",
      "erlendloe\n"
     ]
    },
    {
     "name": "stderr",
     "output_type": "stream",
     "text": [
      "[Parallel(n_jobs=2)]: Done   9 tasks      | elapsed: 32.0min\n"
     ]
    },
    {
     "name": "stdout",
     "output_type": "stream",
     "text": [
      "jonasgahrstore\n",
      "Are\n",
      "Trinesg\n",
      "Kronprinsparet\n",
      "Stortinget\n"
     ]
    },
    {
     "name": "stderr",
     "output_type": "stream",
     "text": [
      "[Parallel(n_jobs=2)]: Done  14 tasks      | elapsed: 51.9min\n"
     ]
    },
    {
     "name": "stdout",
     "output_type": "stream",
     "text": [
      "linniiie\n",
      "Aftenposten\n",
      "Hordalandpoliti\n",
      "Orjas62\n",
      "audunlysbakken\n",
      "jennyskavlan\n",
      "erna\n"
     ]
    },
    {
     "name": "stderr",
     "output_type": "stream",
     "text": [
      "[Parallel(n_jobs=2)]: Done  21 tasks      | elapsed: 119.3min\n"
     ]
    },
    {
     "name": "stdout",
     "output_type": "stream",
     "text": [
      "Utrykningspol\n",
      "kristin\n",
      "StianBlipp\n",
      "FerdOwner\n",
      "EspenEckbo\n",
      "PolitiTrondelag\n",
      "Rammnieu\n"
     ]
    },
    {
     "name": "stderr",
     "output_type": "stream",
     "text": [
      "[Parallel(n_jobs=2)]: Done  28 tasks      | elapsed: 134.3min\n"
     ]
    },
    {
     "name": "stdout",
     "output_type": "stream",
     "text": [
      "vegardino\n",
      "PetterNorthugJr\n",
      "Fotballklubben\n",
      "VGanders\n",
      "Morgenbladet\n",
      "Giertsen\n",
      "UriksFredrik\n",
      "konservativ\n",
      "Oslokommune\n"
     ]
    },
    {
     "name": "stderr",
     "output_type": "stream",
     "text": [
      "[Parallel(n_jobs=2)]: Done  37 tasks      | elapsed: 148.4min\n"
     ]
    },
    {
     "name": "stdout",
     "output_type": "stream",
     "text": [
      "jensstoltenberg\n",
      "trulssv\n",
      "TV2Paasche\n",
      "GeirLippestad\n",
      "henrikthodesen\n",
      "KongenDin\n",
      "Politidir\n",
      "eidsvag\n",
      "BjarteTjostheim\n"
     ]
    },
    {
     "name": "stderr",
     "output_type": "stream",
     "text": [
      "[Parallel(n_jobs=2)]: Done  46 tasks      | elapsed: 162.2min\n"
     ]
    },
    {
     "name": "stdout",
     "output_type": "stream",
     "text": [
      "SenkveldTV2\n",
      "TV2Alsaker\n"
     ]
    },
    {
     "name": "stderr",
     "output_type": "stream",
     "text": [
      "ERROR:root:An unknown error occurred! Returning tweets gathered so far.\n",
      "Traceback (most recent call last):\n",
      "  File \"/Library/Frameworks/Python.framework/Versions/3.4/lib/python3.4/site-packages/twitterscraper/query.py\", line 93, in query_tweets_once\n",
      "    pos is None\n",
      "  File \"/Library/Frameworks/Python.framework/Versions/3.4/lib/python3.4/site-packages/twitterscraper/query.py\", line 38, in query_single_page\n",
      "    json_resp = response.json()\n",
      "  File \"/Library/Frameworks/Python.framework/Versions/3.4/lib/python3.4/site-packages/requests/models.py\", line 892, in json\n",
      "    return complexjson.loads(self.text, **kwargs)\n",
      "  File \"/Library/Frameworks/Python.framework/Versions/3.4/lib/python3.4/json/__init__.py\", line 318, in loads\n",
      "    return _default_decoder.decode(s)\n",
      "  File \"/Library/Frameworks/Python.framework/Versions/3.4/lib/python3.4/json/decoder.py\", line 343, in decode\n",
      "    obj, end = self.raw_decode(s, idx=_w(s, 0).end())\n",
      "  File \"/Library/Frameworks/Python.framework/Versions/3.4/lib/python3.4/json/decoder.py\", line 361, in raw_decode\n",
      "    raise ValueError(errmsg(\"Expecting value\", s, err.value)) from None\n",
      "ValueError: Expecting value: line 1 column 1 (char 0)\n"
     ]
    },
    {
     "name": "stdout",
     "output_type": "stream",
     "text": [
      "livenelvik\n",
      "DavyWathne\n",
      "TV2\n",
      "vgnett\n",
      "TufteJo\n",
      "SteinarSagen\n",
      "abidraja\n",
      "bylvisaker\n",
      "CouncilOnEthics\n"
     ]
    },
    {
     "name": "stderr",
     "output_type": "stream",
     "text": [
      "[Parallel(n_jobs=2)]: Done  57 tasks      | elapsed: 201.5min\n"
     ]
    },
    {
     "name": "stdout",
     "output_type": "stream",
     "text": [
      "sigridbt\n"
     ]
    }
   ],
   "source": [
    "Parallel(n_jobs = 2, verbose = 10)(delayed(query_and_save)(user) for user in run_users)"
   ]
  },
  {
   "cell_type": "code",
   "execution_count": 7,
   "metadata": {},
   "outputs": [
    {
     "data": {
      "text/plain": [
       "1"
      ]
     },
     "execution_count": 7,
     "metadata": {},
     "output_type": "execute_result"
    }
   ],
   "source": [
    "1"
   ]
  },
  {
   "cell_type": "code",
   "execution_count": null,
   "metadata": {},
   "outputs": [],
   "source": []
  }
 ],
 "metadata": {
  "kernelspec": {
   "display_name": "Python 3",
   "language": "python",
   "name": "python3"
  },
  "language_info": {
   "codemirror_mode": {
    "name": "ipython",
    "version": 3
   },
   "file_extension": ".py",
   "mimetype": "text/x-python",
   "name": "python",
   "nbconvert_exporter": "python",
   "pygments_lexer": "ipython3",
   "version": "3.4.3"
  }
 },
 "nbformat": 4,
 "nbformat_minor": 2
}
